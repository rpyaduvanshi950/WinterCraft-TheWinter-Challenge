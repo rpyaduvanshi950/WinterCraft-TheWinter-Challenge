{
 "cells": [
  {
   "cell_type": "markdown",
   "metadata": {
    "id": "5mTHZEqh-cdR"
   },
   "source": [
    "Grayscale Conversion\n",
    "\n",
    "Write a Python script to read an image named image.jpg, convert it to grayscale, and save the result as output_gray.jpg."
   ]
  },
  {
   "cell_type": "code",
   "execution_count": null,
   "metadata": {
    "id": "MaPflrkW-Zto"
   },
   "outputs": [],
   "source": [
    "# Write your code here.\n",
    "import cv2 as cv\n",
    "import numpy as np\n",
    "img = cv.imread('images.jpg')\n",
    "gray = cv.cvtColor(img, cv.COLOR_BGR2GRAY)\n",
    "cv.imwrite('output_gray.jpg', gray)"
   ]
  },
  {
   "cell_type": "markdown",
   "metadata": {
    "id": "XKHxTSHk-m_O"
   },
   "source": [
    "\n",
    "Grayscale Conversion.\n",
    "\n",
    "Write a Python script to read an image named image.jpg, convert it to grayscale, and save the result as output_gray.jpg."
   ]
  },
  {
   "cell_type": "code",
   "execution_count": null,
   "metadata": {
    "id": "Zb2sLaXp-11r"
   },
   "outputs": [],
   "source": [
    "# Write your code here."
   ]
  },
  {
   "cell_type": "markdown",
   "metadata": {
    "id": "x8VlxABO-2A9"
   },
   "source": [
    "Capture and Save Webcam Frames.\n",
    "\n",
    "Write a Python script using cv2.VideoCapture() to:\n",
    "1. Continuously capture video frames from your webcam.\n",
    "\n",
    "2. Display each frame in a window.\n",
    "\n",
    "3. Save every 30th frame as an image in a folder called frames."
   ]
  },
  {
   "cell_type": "code",
   "execution_count": null,
   "metadata": {
    "id": "ex9AgLXS_GN8"
   },
   "outputs": [],
   "source": [
    " # Write your code here.\n",
    "vid = cv.VideoCapture(0) \n",
    "if not vid.isOpened:\n",
    "    print(\"Cant open cam\")\n",
    "    exit()\n",
    "count = 0\n",
    "while True:\n",
    "    #capture frame\n",
    "    val, frame = vid.read()\n",
    "    \n",
    "    if not val:\n",
    "        print(\"reached end of file\")\n",
    "        break\n",
    "    \n",
    "    #display frames\n",
    "    cv.imshow('video', frame)\n",
    "    if cv.waitKey(1) == ord('e'):\n",
    "        break\n",
    "    count = count+1\n",
    "    if count%30 == 0:\n",
    "        cv.imwrite(fr'frames/img{count}', frame)\n",
    "\n",
    "#destroy frames\n",
    "vid.release()\n",
    "cv.destroyAllWindows()\n",
    "\n"
   ]
  },
  {
   "cell_type": "markdown",
   "metadata": {
    "id": "2TLPG4qL_Gan"
   },
   "source": [
    "Write a Python script to perform the following tasks:\n",
    "\n",
    "1. Rotate an image named image.jpg by 90 degrees clockwise and save the result as rotated_image.jpg.\n",
    "\n",
    "\n",
    "2. Crop a central 200x200 region from the same image (original size is 800x600 pixels) and save it as cropped_image.jpg."
   ]
  },
  {
   "cell_type": "code",
   "execution_count": null,
   "metadata": {
    "id": "xrumakIS_18v"
   },
   "outputs": [],
   "source": [
    " # Write your code here.\n",
    "#rotating image\n",
    "img = cv.imread(r\"images.jpg\")\n",
    "rotate_img = cv.rotate(img, cv.ROTATE_90_CLOCKWISE)\n",
    "cv.imwrite(r'rotated_image.jpg', rotate_img)\n",
    "\n",
    "#cropping\n",
    "crop_img = img[300:500, 200:400]\n",
    "cv.imwrite(r'cropped_image.jpg', crop_img)"
   ]
  },
  {
   "cell_type": "markdown",
   "metadata": {
    "id": "vWzqg01C_2G4"
   },
   "source": [
    "Canny Edge Detection in Video\n",
    "\n",
    "Write a Python program to:\n",
    "\n",
    "Capture video frames continuously for 10 seconds.\n",
    "\n",
    "Apply the Canny edge detection algorithm to each frame.\n",
    "\n",
    "Display the original frame and its edges side by side in a single window.\n",
    "\n",
    "Stop capturing when the user presses the 'q' key."
   ]
  },
  {
   "cell_type": "code",
   "execution_count": null,
   "metadata": {
    "id": "ZW4uyco4ACP2"
   },
   "outputs": [],
   "source": [
    " # Write your code here.\n",
    "import time\n",
    "id = cv.VideoCapture(0) \n",
    "if not vid.isOpened:\n",
    "    print(\"Cant open cam\")\n",
    "    exit()\n",
    "\n",
    "start_time = time.time()\n",
    "while True:\n",
    "    #capture frame\n",
    "    val, frame = vid.read()\n",
    "    \n",
    "    if not val:\n",
    "        print(\"reached end of file\")\n",
    "        break\n",
    "    #canny edge\n",
    "    canny = cv.canny(frame, 125, 175)\n",
    "    #concatentating\n",
    "    concat_img = cv.hconcat([frame, canny])\n",
    "    cv.resize(canny, (frame.shape[1], frame.shape[0]))\n",
    "    #display frames\n",
    "    elapsed_time = time.time() - start_time\n",
    "    if elapsed_time>10 :\n",
    "        break\n",
    "\n",
    "    cv.imshow('video', concat_img)\n",
    "    if cv.waitKey(1) == ord('q'):\n",
    "        break\n",
    "    \n",
    "\n",
    "#destroy frames\n",
    "vid.release()\n",
    "cv.destroyAllWindows()"
   ]
  },
  {
   "cell_type": "markdown",
   "metadata": {
    "id": "X3lImf4FAC4B"
   },
   "source": [
    "Gaussian Blurring\n",
    "\n",
    "Write a Python script to Read an image named image.jpg Apply a Gaussian blur with a kernel size of 5x5 Save the blurred image as gaussian_blur.jpg."
   ]
  },
  {
   "cell_type": "code",
   "execution_count": null,
   "metadata": {
    "id": "xC9VQ6_kAapt"
   },
   "outputs": [],
   "source": [
    " # Write your code here.\n",
    "blur_img = cv.GaussianBlur(img, (5,5), cv.BORDER_DEFAULT)\n",
    "cv.imwrite('gaussian_blur.jpg', blur_img)"
   ]
  },
  {
   "cell_type": "markdown",
   "metadata": {
    "id": "BQpzAKfPAa9C"
   },
   "source": [
    "Draw Shapes on Images\n",
    "\n",
    "Write a Python script to:\n",
    "    Read an image named image.jpg.\n",
    "    Draw the following on the image:\n",
    "        A blue circle with a radius of 50 pixels at the center.\n",
    "        A green rectangle of size 100x50 pixels in the bottom-right corner.\n",
    "    Save the modified image as shapes_drawn.jpg."
   ]
  },
  {
   "cell_type": "code",
   "execution_count": null,
   "metadata": {
    "id": "py_dNtukAs14"
   },
   "outputs": [],
   "source": [
    "# Write your code here.\n",
    "img = cv.imread(r\"images.jpg\")\n",
    "#drawing circle\n",
    "cv.circle(img, (img.shape[1]//2, img.shape[0]//2), 50, (255,0,0), thickness=-1)\n",
    "#drawing a rectangle\n",
    "cv.rectangle(img,(img.shape[1],img.shape[0]), (img.shape[1]-100, img.shape[0]-50), (0,255,0), thickness=-1)\n"
   ]
  },
  {
   "cell_type": "markdown",
   "metadata": {
    "id": "VATqeumcAt3a"
   },
   "source": [
    "Image Color Space Conversion\n",
    "\n",
    "Write a Python script to:\n",
    "    Read an image named image.jpg.\n",
    "    Convert the image from BGR to HSV color space.\n",
    "    Save the result as hsv_image.jpg."
   ]
  },
  {
   "cell_type": "code",
   "execution_count": null,
   "metadata": {
    "id": "CMnqcUhRBOy0"
   },
   "outputs": [],
   "source": [
    "# Write your code here.\n",
    "img = cv.imread(r'image.jpg')\n",
    "img2 =  cv.cvtColor(img, cv.COLOR_BGR2HSV)\n",
    "cv.imwrite(r'hsv_image.jpg', img2)"
   ]
  },
  {
   "cell_type": "markdown",
   "metadata": {
    "id": "MZcUXAPZBPIw"
   },
   "source": [
    "Split Image into Color Channels\n",
    "\n",
    "Write a Python function to split an input image named colorful.jpg into its three color channels (Blue, Green, Red). Save each channel as a separate grayscale image."
   ]
  },
  {
   "cell_type": "code",
   "execution_count": null,
   "metadata": {
    "id": "om_y1DT7BQA2"
   },
   "outputs": [],
   "source": [
    "# Write your code here\n",
    "b,g,r = cv.split(img)\n",
    "cv.imwrite('blue.jpg', b)\n",
    "cv.imwrite('green.jpg', g)\n",
    "cv.imwrite('red.jpg', r)\n"
   ]
  },
  {
   "cell_type": "code",
   "execution_count": null,
   "metadata": {
    "id": "kBXegGVlBiw7"
   },
   "outputs": [],
   "source": []
  },
  {
   "cell_type": "markdown",
   "metadata": {
    "id": "oEqKIeoGBjxb"
   },
   "source": [
    "Feel free to reach out to us."
   ]
  }
 ],
 "metadata": {
  "colab": {
   "authorship_tag": "ABX9TyMbfVC6cAWZFk9Wi7M9xCAC",
   "provenance": []
  },
  "kernelspec": {
   "display_name": "Python 3",
   "name": "python3"
  },
  "language_info": {
   "name": "python"
  }
 },
 "nbformat": 4,
 "nbformat_minor": 0
}
