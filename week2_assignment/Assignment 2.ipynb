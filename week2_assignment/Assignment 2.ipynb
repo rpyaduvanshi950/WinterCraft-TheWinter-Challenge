{
 "cells": [
  {
   "cell_type": "markdown",
   "metadata": {
    "id": "5mTHZEqh-cdR"
   },
   "source": [
    "Grayscale Conversion\n",
    "\n",
    "Write a Python script to read an image named image.jpg, convert it to grayscale, and save the result as output_gray.jpg."
   ]
  },
  {
   "cell_type": "code",
   "execution_count": 1,
   "metadata": {
    "id": "MaPflrkW-Zto"
   },
   "outputs": [],
   "source": [
    "import cv2 as cv\n",
    "import numpy\n",
    "import os\n",
    "if not os.path.exists('outputs'):\n",
    "    os.makedirs('outputs')\n",
    "img = cv.imread('image.jpg')\n",
    "image = cv.resize(img, (800, 600),interpolation = cv.INTER_LINEAR)\n",
    "cv.cvtColor(image, cv.COLOR_BGR2GRAY)\n",
    "cv.imwrite('outputs/output_gray.jpg', image)\n",
    "cv.waitKey(0)\n",
    "cv.destroyAllWindows()"
   ]
  },
  {
   "cell_type": "markdown",
   "metadata": {
    "id": "XKHxTSHk-m_O"
   },
   "source": [
    "\n",
    "Grayscale Conversion.\n",
    "\n",
    "Write a Python script to read an image named image.jpg, convert it to grayscale, and save the result as output_gray.jpg."
   ]
  },
  {
   "cell_type": "code",
   "execution_count": 2,
   "metadata": {
    "id": "Zb2sLaXp-11r"
   },
   "outputs": [],
   "source": [
    "import cv2 as cv\n",
    "img = cv.imread('image.jpg')\n",
    "image = cv.resize(img, (800, 600),interpolation = cv.INTER_LINEAR)\n",
    "cv.cvtColor(image, cv.COLOR_BGR2GRAY)\n",
    "cv.imwrite('outputs/output_gray.jpg', image)\n",
    "cv.waitKey(0)\n",
    "cv.destroyAllWindows()"
   ]
  },
  {
   "cell_type": "markdown",
   "metadata": {
    "id": "x8VlxABO-2A9"
   },
   "source": [
    "Capture and Save Webcam Frames.\n",
    "\n",
    "Write a Python script using cv2.VideoCapture() to:\n",
    "1. Continuously capture video frames from your webcam.\n",
    "\n",
    "2. Display each frame in a window.\n",
    "\n",
    "3. Save every 30th frame as an image in a folder called frames."
   ]
  },
  {
   "cell_type": "code",
   "execution_count": 3,
   "metadata": {
    "id": "ex9AgLXS_GN8"
   },
   "outputs": [],
   "source": [
    "if not os.path.exists('frames'):\n",
    "    os.makedirs('frames')\n",
    "video = cv.VideoCapture(0)\n",
    "count = 1\n",
    "while True:\n",
    "    isTrue, frame = video.read()\n",
    "    cv.imshow('WebCam', frame)\n",
    "    if count%30 == 0:\n",
    "        cv.imwrite('frames/frame%d.jpg' %count, frame)\n",
    "    count+=1\n",
    "    if cv.waitKey(1) & 0xFF == ord('q'):\n",
    "        break\n",
    "video.release()\n",
    "cv.destroyAllWindows()"
   ]
  },
  {
   "cell_type": "markdown",
   "metadata": {
    "id": "2TLPG4qL_Gan"
   },
   "source": [
    "Write a Python script to perform the following tasks:\n",
    "\n",
    "1. Rotate an image named image.jpg by 90 degrees clockwise and save the result as rotated_image.jpg.\n",
    "\n",
    "\n",
    "2. Crop a central 200x200 region from the same image (original size is 800x600 pixels) and save it as cropped_image.jpg."
   ]
  },
  {
   "cell_type": "code",
   "execution_count": 4,
   "metadata": {
    "id": "xrumakIS_18v"
   },
   "outputs": [],
   "source": [
    "def rotate(image, angle, rotPoint = None):\n",
    "    (width,height)=image.shape[1], image.shape[0]\n",
    "    if rotPoint == None:\n",
    "        rotPoint = (width//2, height//2)\n",
    "    rot_Matrix = cv.getRotationMatrix2D(rotPoint, angle, 1.0)\n",
    "    dimension = (width, height)\n",
    "    return cv.warpAffine(image, rot_Matrix, dimension)\n",
    "rotated_image = rotate(image, 270)\n",
    "cv.imwrite('outputs/outputs/rotated_image.jpg', rotated_image)\n",
    "cropped_image = image[200:400, 300:500]\n",
    "cv.imwrite('outputs/cropped_image.jpg', cropped_image)\n",
    "cv.waitKey(0)\n",
    "cv.destroyAllWindows()"
   ]
  },
  {
   "cell_type": "markdown",
   "metadata": {
    "id": "vWzqg01C_2G4"
   },
   "source": [
    "Canny Edge Detection in Video\n",
    "\n",
    "Write a Python program to:\n",
    "\n",
    "Capture video frames continuously for 10 seconds.\n",
    "\n",
    "Apply the Canny edge detection algorithm to each frame.\n",
    "\n",
    "Display the original frame and its edges side by side in a single window.\n",
    "\n",
    "Stop capturing when the user presses the 'q' key."
   ]
  },
  {
   "cell_type": "code",
   "execution_count": 5,
   "metadata": {
    "id": "ZW4uyco4ACP2"
   },
   "outputs": [],
   "source": [
    "import numpy as np\n",
    "import time\n",
    "video_capture = cv.VideoCapture(0)\n",
    "initial_time = time.time()\n",
    "width = int(video_capture.get(cv.CAP_PROP_FRAME_WIDTH))\n",
    "height = int(video_capture.get(cv.CAP_PROP_FRAME_HEIGHT))\n",
    "while True:\n",
    "    istrue, frame_canny = video_capture.read()\n",
    "    gray_frame = cv.cvtColor(frame_canny, cv.COLOR_BGR2GRAY)\n",
    "    canny = cv.Canny(gray_frame, 100, 200)\n",
    "    canny_resized = cv.resize(canny, (width,height), interpolation = cv.INTER_LINEAR)\n",
    "    canny_resized_colored = cv.cvtColor(canny_resized, cv.COLOR_GRAY2BGR)\n",
    "    combined = np.hstack((frame_canny, canny_resized_colored))\n",
    "    cv.imshow('combined', combined)\n",
    "    if time.time() - initial_time > 10 or cv.waitKey(1) & 0xFF == ord('q'):\n",
    "        break\n",
    "video_capture.release()\n",
    "cv.destroyAllWindows()"
   ]
  },
  {
   "cell_type": "markdown",
   "metadata": {
    "id": "X3lImf4FAC4B"
   },
   "source": [
    "Gaussian Blurring\n",
    "\n",
    "Write a Python script to Read an image named image.jpg Apply a Gaussian blur with a kernel size of 5x5 Save the blurred image as gaussian_blur.jpg."
   ]
  },
  {
   "cell_type": "code",
   "execution_count": 6,
   "metadata": {
    "id": "xC9VQ6_kAapt"
   },
   "outputs": [],
   "source": [
    "image = cv.imread('image.jpg')\n",
    "blur = cv.GaussianBlur(image, (5, 5), cv.BORDER_DEFAULT)\n",
    "cv.imwrite('outputs/blur.jpg', blur)\n",
    "cv.waitKey(0)\n",
    "cv.destroyAllWindows()"
   ]
  },
  {
   "cell_type": "markdown",
   "metadata": {
    "id": "BQpzAKfPAa9C"
   },
   "source": [
    "Draw Shapes on Images\n",
    "\n",
    "Write a Python script to: Read an image named image.jpg. Draw the following on the image: A blue circle with a radius of 50 pixels at the center. A green rectangle of size 100x50 pixels in the bottom-right corner. Save the modified image as shapes_drawn.jpg."
   ]
  },
  {
   "cell_type": "code",
   "execution_count": 7,
   "metadata": {
    "id": "py_dNtukAs14"
   },
   "outputs": [],
   "source": [
    "image = cv.imread('image.jpg')\n",
    "height, width = image.shape[0],  image.shape[1]\n",
    "cv.circle(image, (image.shape[1]//2, image.shape[0]//2), 50, (255, 0, 0), thickness = -1)\n",
    "cv.rectangle(image, (width-100, height-50), (width, height), (0, 255, 0),thickness = -1)\n",
    "cv.imwrite('outputs/shapes_drawn.jpg', image)\n",
    "cv.waitKey(0)\n",
    "cv.destroyAllWindows()"
   ]
  },
  {
   "cell_type": "markdown",
   "metadata": {
    "id": "VATqeumcAt3a"
   },
   "source": [
    "Image Color Space Conversion\n",
    "\n",
    "Write a Python script to:\n",
    "    Read an image named image.jpg.\n",
    "    Convert the image from BGR to HSV color space.\n",
    "    Save the result as hsv_image.jpg."
   ]
  },
  {
   "cell_type": "code",
   "execution_count": 8,
   "metadata": {
    "id": "CMnqcUhRBOy0"
   },
   "outputs": [],
   "source": [
    "import cv2 as cv\n",
    "image = cv.imread('image.jpg')\n",
    "cv.cvtColor(image, cv.COLOR_BGR2HSV)\n",
    "cv.imwrite('outputs/hsv_image.jpg', image)\n",
    "cv.waitKey(0)\n",
    "cv.destroyAllWindows()"
   ]
  },
  {
   "cell_type": "markdown",
   "metadata": {
    "id": "MZcUXAPZBPIw"
   },
   "source": [
    "Split Image into Color Channels\n",
    "\n",
    "Write a Python function to split an input image named colorful.jpg into its three color channels (Blue, Green, Red). Save each channel as a separate grayscale image."
   ]
  },
  {
   "cell_type": "code",
   "execution_count": 9,
   "metadata": {
    "id": "om_y1DT7BQA2"
   },
   "outputs": [
    {
     "data": {
      "text/plain": [
       "True"
      ]
     },
     "execution_count": 9,
     "metadata": {},
     "output_type": "execute_result"
    }
   ],
   "source": [
    "(blue, green, red) = cv.split(image)\n",
    "cv.imwrite('outputs/blue.jpg', blue)\n",
    "cv.imwrite('outputs/green.jpg', green)\n",
    "cv.imwrite('outputs/red.jpg', red)"
   ]
  },
  {
   "cell_type": "markdown",
   "metadata": {
    "id": "oEqKIeoGBjxb"
   },
   "source": [
    "Feel free to reach out to us."
   ]
  }
 ],
 "metadata": {
  "colab": {
   "authorship_tag": "ABX9TyMbfVC6cAWZFk9Wi7M9xCAC",
   "provenance": []
  },
  "kernelspec": {
   "display_name": "Python 3 (ipykernel)",
   "language": "python",
   "name": "python3"
  },
  "language_info": {
   "codemirror_mode": {
    "name": "ipython",
    "version": 3
   },
   "file_extension": ".py",
   "mimetype": "text/x-python",
   "name": "python",
   "nbconvert_exporter": "python",
   "pygments_lexer": "ipython3",
   "version": "3.13.1"
  }
 },
 "nbformat": 4,
 "nbformat_minor": 4
}
