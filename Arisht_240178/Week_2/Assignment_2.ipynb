{
 "cells": [
  {
   "cell_type": "markdown",
   "metadata": {
    "id": "5mTHZEqh-cdR"
   },
   "source": [
    "Grayscale Conversion\n",
    "\n",
    "Write a Python script to read an image named image.jpg, convert it to grayscale, and save the result as output_gray.jpg."
   ]
  },
  {
   "cell_type": "code",
   "execution_count": 34,
   "metadata": {
    "id": "MaPflrkW-Zto"
   },
   "outputs": [
    {
     "data": {
      "text/plain": [
       "True"
      ]
     },
     "execution_count": 34,
     "metadata": {},
     "output_type": "execute_result"
    }
   ],
   "source": [
    "import cv2 as cv\n",
    "\n",
    "image=cv.imread(\"image.jpg\")\n",
    "\n",
    "output_gray=cv.cvtColor(image,cv.COLOR_BGR2GRAY)\n",
    "cv.imwrite(\"output_gray.jpg\",output_gray)"
   ]
  },
  {
   "cell_type": "markdown",
   "metadata": {
    "id": "XKHxTSHk-m_O"
   },
   "source": [
    "\n",
    "Grayscale Conversion.\n",
    "\n",
    "Write a Python script to read an image named image.jpg, convert it to grayscale, and save the result as output_gray.jpg."
   ]
  },
  {
   "cell_type": "code",
   "execution_count": 35,
   "metadata": {
    "id": "Zb2sLaXp-11r"
   },
   "outputs": [
    {
     "data": {
      "text/plain": [
       "True"
      ]
     },
     "execution_count": 35,
     "metadata": {},
     "output_type": "execute_result"
    }
   ],
   "source": [
    "import cv2 as cv\n",
    "\n",
    "image=cv.imread(\"image.jpg\")\n",
    "\n",
    "output_gray=cv.cvtColor(image,cv.COLOR_BGR2GRAY)\n",
    "cv.imwrite(\"output_gray.jpg\",output_gray)"
   ]
  },
  {
   "cell_type": "markdown",
   "metadata": {
    "id": "x8VlxABO-2A9"
   },
   "source": [
    "Capture and Save Webcam Frames.\n",
    "\n",
    "Write a Python script using cv2.VideoCapture() to:\n",
    "1. Continuously capture video frames from your webcam.\n",
    "\n",
    "2. Display each frame in a window.\n",
    "\n",
    "3. Save every 30th frame as an image in a folder called frames."
   ]
  },
  {
   "cell_type": "code",
   "execution_count": 1,
   "metadata": {
    "id": "ex9AgLXS_GN8"
   },
   "outputs": [],
   "source": [
    "import cv2 as cv\n",
    "import os\n",
    "\n",
    "video=cv.VideoCapture(0)\n",
    "frame_count=1\n",
    "\n",
    "if not os.path.exists(\"frames\"):\n",
    "    os.makedirs(\"frames\")\n",
    "\n",
    "while True:\n",
    "    boolean, frame=video.read()\n",
    "    if boolean:\n",
    "        if frame_count%30==0:\n",
    "            cv.imwrite(f\"frames/frame_{frame_count}.jpg\", frame)\n",
    "        cv.imshow(\"frames\", frame)\n",
    "        frame_count += 1\n",
    "        if cv.waitKey(20) & 0xFF == ord(\"q\"):\n",
    "            break\n",
    "    else:\n",
    "        break   \n",
    "\n",
    "cv.destroyAllWindows()\n",
    "video.release()"
   ]
  },
  {
   "cell_type": "markdown",
   "metadata": {
    "id": "2TLPG4qL_Gan"
   },
   "source": [
    "Write a Python script to perform the following tasks:\n",
    "\n",
    "1. Rotate an image named image.jpg by 90 degrees clockwise and save the result as rotated_image.jpg.\n",
    "\n",
    "\n",
    "2. Crop a central 200x200 region from the same image (original size is 800x600 pixels) and save it as cropped_image.jpg."
   ]
  },
  {
   "cell_type": "code",
   "execution_count": 22,
   "metadata": {
    "id": "xrumakIS_18v"
   },
   "outputs": [
    {
     "data": {
      "text/plain": [
       "True"
      ]
     },
     "execution_count": 22,
     "metadata": {},
     "output_type": "execute_result"
    }
   ],
   "source": [
    "import cv2 as cv\n",
    "\n",
    "image=cv.imread(\"image.jpg\")\n",
    "\n",
    "rotated_image=cv.rotate(image, cv.ROTATE_90_CLOCKWISE)\n",
    "cv.imwrite(\"rotated_image.jpg\", rotated_image)\n",
    "\n",
    "cropped_image=rotated_image[300:500,200:400]\n",
    "cv.imwrite(\"cropped_image.jpg\",cropped_image)"
   ]
  },
  {
   "cell_type": "markdown",
   "metadata": {
    "id": "vWzqg01C_2G4"
   },
   "source": [
    "Canny Edge Detection in Video\n",
    "\n",
    "Write a Python program to:\n",
    "\n",
    "Capture video frames continuously for 10 seconds.\n",
    "\n",
    "Apply the Canny edge detection algorithm to each frame.\n",
    "\n",
    "Display the original frame and its edges side by side in a single window.\n",
    "\n",
    "Stop capturing when the user presses the 'q' key."
   ]
  },
  {
   "cell_type": "code",
   "execution_count": 36,
   "metadata": {
    "id": "ZW4uyco4ACP2"
   },
   "outputs": [],
   "source": [
    "import cv2 as cv\n",
    "import time\n",
    "import numpy as np\n",
    "\n",
    "video=cv.VideoCapture(0)\n",
    "starting_time=time.time()\n",
    "\n",
    "while time.time() - starting_time < 10:\n",
    "    boolean, frame=video.read()\n",
    "    if boolean:\n",
    "        canny = cv.Canny(frame, 125, 175)\n",
    "        canny_recoloured=cv.cvtColor(canny, cv.COLOR_GRAY2BGR)\n",
    "        window=np.concatenate((frame, canny_recoloured), axis=1)\n",
    "        cv.imshow(\"window\",window)\n",
    "        if cv.waitKey(20) & 0xFF == ord(\"q\"):\n",
    "            break\n",
    "    else:\n",
    "        break\n",
    "\n",
    "cv.destroyAllWindows()\n",
    "video.release()"
   ]
  },
  {
   "cell_type": "markdown",
   "metadata": {
    "id": "X3lImf4FAC4B"
   },
   "source": [
    "Gaussian Blurring\n",
    "\n",
    "Write a Python script to Read an image named image.jpg Apply a Gaussian blur with a kernel size of 5x5 Save the blurred image as gaussian_blur.jpg."
   ]
  },
  {
   "cell_type": "code",
   "execution_count": 23,
   "metadata": {
    "id": "xC9VQ6_kAapt"
   },
   "outputs": [
    {
     "data": {
      "text/plain": [
       "True"
      ]
     },
     "execution_count": 23,
     "metadata": {},
     "output_type": "execute_result"
    }
   ],
   "source": [
    "import cv2 as cv\n",
    "\n",
    "image=cv.imread(\"image.jpg\")\n",
    "\n",
    "gaussian_blur = cv.GaussianBlur(image, (5,5), cv.BORDER_DEFAULT)\n",
    "cv.imwrite(\"gaussian_blur.jpg\", gaussian_blur)"
   ]
  },
  {
   "cell_type": "markdown",
   "metadata": {
    "id": "BQpzAKfPAa9C"
   },
   "source": [
    "Draw Shapes on Images\n",
    "\n",
    "Write a Python script to:\n",
    "    Read an image named image.jpg.\n",
    "    Draw the following on the image:\n",
    "        A blue circle with a radius of 50 pixels at the center.\n",
    "        A green rectangle of size 100x50 pixels in the bottom-right corner.\n",
    "    Save the modified image as shapes_drawn.jpg."
   ]
  },
  {
   "cell_type": "code",
   "execution_count": 26,
   "metadata": {
    "id": "py_dNtukAs14"
   },
   "outputs": [
    {
     "data": {
      "text/plain": [
       "True"
      ]
     },
     "execution_count": 26,
     "metadata": {},
     "output_type": "execute_result"
    }
   ],
   "source": [
    "import cv2 as cv\n",
    "\n",
    "image=cv.imread(\"image.jpg\")\n",
    "\n",
    "cv.circle(image, (image.shape[1]//2, image.shape[0]//2), 50, (255,0,0), thickness=cv.FILLED)\n",
    "cv.rectangle(image, (image.shape[1]-100, image.shape[0]-50), (image.shape[1],image.shape[0]), (0,255,0), thickness=cv.FILLED)\n",
    "cv.imwrite(\"shapes_drawn.jpg\", image)"
   ]
  },
  {
   "cell_type": "markdown",
   "metadata": {
    "id": "VATqeumcAt3a"
   },
   "source": [
    "Image Color Space Conversion\n",
    "\n",
    "Write a Python script to:\n",
    "    Read an image named image.jpg.\n",
    "    Convert the image from BGR to HSV color space.\n",
    "    Save the result as hsv_image.jpg."
   ]
  },
  {
   "cell_type": "code",
   "execution_count": 37,
   "metadata": {
    "id": "CMnqcUhRBOy0"
   },
   "outputs": [
    {
     "data": {
      "text/plain": [
       "True"
      ]
     },
     "execution_count": 37,
     "metadata": {},
     "output_type": "execute_result"
    }
   ],
   "source": [
    "import cv2 as cv\n",
    "\n",
    "image=cv.imread(\"image.jpg\")\n",
    "\n",
    "hsv_image=cv.cvtColor(image, cv.COLOR_BGR2HSV)\n",
    "cv.imwrite(\"hsv_image.jpg\", hsv_image)"
   ]
  },
  {
   "cell_type": "markdown",
   "metadata": {
    "id": "MZcUXAPZBPIw"
   },
   "source": [
    "Split Image into Color Channels\n",
    "\n",
    "Write a Python function to split an input image named colorful.jpg into its three color channels (Blue, Green, Red). Save each channel as a separate grayscale image."
   ]
  },
  {
   "cell_type": "code",
   "execution_count": 41,
   "metadata": {
    "id": "om_y1DT7BQA2"
   },
   "outputs": [
    {
     "data": {
      "text/plain": [
       "True"
      ]
     },
     "execution_count": 41,
     "metadata": {},
     "output_type": "execute_result"
    }
   ],
   "source": [
    "import cv2 as cv\n",
    "\n",
    "image=cv.imread(\"image.jpg\")\n",
    "\n",
    "b,g,r=cv.split(image)\n",
    "cv.imwrite(\"b.jpg\",b)\n",
    "cv.imwrite(\"g.jpg\",g)\n",
    "cv.imwrite(\"r.jpg\",r)"
   ]
  },
  {
   "cell_type": "markdown",
   "metadata": {
    "id": "oEqKIeoGBjxb"
   },
   "source": [
    "Feel free to reach out to us."
   ]
  }
 ],
 "metadata": {
  "colab": {
   "authorship_tag": "ABX9TyMbfVC6cAWZFk9Wi7M9xCAC",
   "provenance": []
  },
  "kernelspec": {
   "display_name": "Python 3",
   "name": "python3"
  },
  "language_info": {
   "codemirror_mode": {
    "name": "ipython",
    "version": 3
   },
   "file_extension": ".py",
   "mimetype": "text/x-python",
   "name": "python",
   "nbconvert_exporter": "python",
   "pygments_lexer": "ipython3",
   "version": "3.13.1"
  }
 },
 "nbformat": 4,
 "nbformat_minor": 0
}
