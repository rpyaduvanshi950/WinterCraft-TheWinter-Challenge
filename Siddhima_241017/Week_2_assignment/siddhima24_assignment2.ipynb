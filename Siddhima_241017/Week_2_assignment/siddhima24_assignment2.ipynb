{
 "cells": [
  {
   "cell_type": "markdown",
   "metadata": {
    "id": "5mTHZEqh-cdR"
   },
   "source": [
    "Grayscale Conversion\n",
    "\n",
    "Write a Python script to read an image named image.jpg, convert it to grayscale, and save the result as output_gray.jpg."
   ]
  },
  {
   "cell_type": "code",
   "execution_count": 27,
   "metadata": {
    "id": "MaPflrkW-Zto"
   },
   "outputs": [
    {
     "data": {
      "text/plain": [
       "True"
      ]
     },
     "execution_count": 27,
     "metadata": {},
     "output_type": "execute_result"
    }
   ],
   "source": [
    "import os\n",
    "import time\n",
    "import cv2 as cv\n",
    "image=cv.imread('/descon/image.jpg')\n",
    "gray=cv.cvtColor(image,cv.COLOR_BGR2GRAY)\n",
    "cv.imwrite('output_gray.jpg',gray)\n",
    "# cv.imshow('Image',image)\n",
    "# cv.imshow('Grayscale',gray)\n",
    "# cv.waitKey(0)\n",
    "# print(image.shape[:2])"
   ]
  },
  {
   "cell_type": "markdown",
   "metadata": {
    "id": "x8VlxABO-2A9"
   },
   "source": [
    "Capture and Save Webcam Frames.\n",
    "\n",
    "Write a Python script using cv2.VideoCapture() to:\n",
    "1. Continuously capture video frames from your webcam.\n",
    "\n",
    "2. Display each frame in a window.\n",
    "\n",
    "3. Save every 30th frame as an image in a folder called frames."
   ]
  },
  {
   "cell_type": "code",
   "execution_count": 30,
   "metadata": {
    "id": "ex9AgLXS_GN8"
   },
   "outputs": [
    {
     "name": "stdout",
     "output_type": "stream",
     "text": [
      "10 seconds elapsed, ending capture...\n"
     ]
    }
   ],
   "source": [
    "video=cv.VideoCapture(0)\n",
    "# success,frame1=video.read()\n",
    "# print(success)\n",
    "start_time=time.time()#to capture video for a specified period of time, the time module is used\n",
    "count=0\n",
    "while video.isOpened():\n",
    "    success,frame=video.read()\n",
    "    if not success:\n",
    "        print(\"End of video or error reading .\")\n",
    "        break\n",
    "    cv.imshow('Video',frame)\n",
    "    os.makedirs('frames',exist_ok=True)\n",
    "    count+=1\n",
    "    if count%30==0 :\n",
    "        frame_path=os.path.join('frames',f'frame{count}.jpg')\n",
    "        cv.imwrite(frame_path,frame)\n",
    "    elapsed_time=time.time()-start_time\n",
    "    if elapsed_time>10:\n",
    "        print(\"10 seconds elapsed, ending capture...\")\n",
    "        break    \n",
    "    if cv.waitKey(1)&0xFF==ord('q'):\n",
    "        print(\"Ending Capture due to user input\")\n",
    "        break    \n",
    "video.release()\n",
    "cv.destroyAllWindows()        "
   ]
  },
  {
   "cell_type": "markdown",
   "metadata": {
    "id": "2TLPG4qL_Gan"
   },
   "source": [
    "Write a Python script to perform the following tasks:\n",
    "\n",
    "1. Rotate an image named image.jpg by 90 degrees clockwise and save the result as rotated_image.jpg.\n",
    "\n",
    "\n",
    "2. Crop a central 200x200 region from the same image (original size is 800x600 pixels) and save it as cropped_image.jpg."
   ]
  },
  {
   "cell_type": "code",
   "execution_count": 31,
   "metadata": {
    "id": "xrumakIS_18v"
   },
   "outputs": [
    {
     "data": {
      "text/plain": [
       "True"
      ]
     },
     "execution_count": 31,
     "metadata": {},
     "output_type": "execute_result"
    }
   ],
   "source": [
    "def rotate(img,angle,rotPoint=None):\n",
    "    (height,width)=img.shape[:2]\n",
    "    if rotPoint is None:\n",
    "        rotPoint=(width//2,height//2)\n",
    "\n",
    "    rotMat=cv.getRotationMatrix2D(rotPoint,angle,1.0)\n",
    "    dimensions=(width,height)\n",
    "\n",
    "    return cv.warpAffine(img,rotMat,dimensions)\n",
    "rotated=rotate(image,-90)\n",
    "# cv.imshow('Rotated',rotated)\n",
    "# cv.waitKey(0)\n",
    "cv.imwrite('rotated_image.jpg',rotated)   \n",
    "cropped=image[((image.shape[0]//2)-100):((image.shape[0]//2)+100),((image.shape[1]//2)-100):((image.shape[1]//2)+100)] \n",
    "# print(cropped.shape[:2])\n",
    "# cv.imshow('Cropped',cropped)\n",
    "# cv.waitKey(0) & 0xFF==ord('j')\n",
    "cv.imwrite('cropped_image.jpg',cropped)"
   ]
  },
  {
   "cell_type": "markdown",
   "metadata": {
    "id": "vWzqg01C_2G4"
   },
   "source": [
    "Canny Edge Detection in Video\n",
    "\n",
    "Write a Python program to:\n",
    "\n",
    "Capture video frames continuously for 10 seconds.\n",
    "\n",
    "Apply the Canny edge detection algorithm to each frame.\n",
    "\n",
    "Display the original frame and its edges side by side in a single window.\n",
    "\n",
    "Stop capturing when the user presses the 'q' key."
   ]
  },
  {
   "cell_type": "code",
   "execution_count": 32,
   "metadata": {},
   "outputs": [],
   "source": [
    "#to rescale the frames in case the frame size of video is large\n",
    "def rescale(frame,scale=0.25):\n",
    "    width=int(frame.shape[1]*scale)\n",
    "    height=int(frame.shape[0]*scale)\n",
    "    dimensions=(width,height)\n",
    "    return cv.resize(frame,dimensions,interpolation=cv.INTER_AREA)"
   ]
  },
  {
   "cell_type": "code",
   "execution_count": 33,
   "metadata": {
    "id": "ZW4uyco4ACP2"
   },
   "outputs": [
    {
     "name": "stdout",
     "output_type": "stream",
     "text": [
      "10 seconds elapsed, ending capture...\n"
     ]
    }
   ],
   "source": [
    "import numpy as np\n",
    "video=cv.VideoCapture(0)\n",
    "# success,frame1=video.read()\n",
    "# print(success)\n",
    "start=time.time()\n",
    "while video.isOpened():\n",
    "    success,frame1=video.read()\n",
    "    if not success:\n",
    "        print(\"End of video or error capturing\")\n",
    "        break\n",
    "    frame=rescale(frame1)\n",
    "    gray=cv.cvtColor(frame,cv.COLOR_BGR2GRAY)\n",
    "    canny=cv.Canny(gray,125,175)\n",
    "    canny_col=cv.cvtColor(canny,cv.COLOR_GRAY2BGR)\n",
    "    combination=np.hstack((frame,canny_col))\n",
    "    cv.imshow('Combined_image',combination)\n",
    "    elapsed_time=time.time()-start\n",
    "    if elapsed_time>10:\n",
    "        print(\"10 seconds elapsed, ending capture...\")\n",
    "        break    \n",
    "    if cv.waitKey(20)&0xFF==ord('q'):\n",
    "        print(\"Ending Capture due to user input\")\n",
    "        break  \n",
    "video.release()\n",
    "cv.destroyAllWindows()         "
   ]
  },
  {
   "cell_type": "markdown",
   "metadata": {
    "id": "X3lImf4FAC4B"
   },
   "source": [
    "Gaussian Blurring\n",
    "\n",
    "Write a Python script to Read an image named image.jpg Apply a Gaussian blur with a kernel size of 5x5 Save the blurred image as gaussian_blur.jpg."
   ]
  },
  {
   "cell_type": "code",
   "execution_count": 34,
   "metadata": {
    "id": "xC9VQ6_kAapt"
   },
   "outputs": [
    {
     "data": {
      "text/plain": [
       "True"
      ]
     },
     "execution_count": 34,
     "metadata": {},
     "output_type": "execute_result"
    }
   ],
   "source": [
    "blur=cv.GaussianBlur(image,(5,5),cv.BORDER_DEFAULT)\n",
    "cv.imwrite('gaussian_blur.jpg',blur)"
   ]
  },
  {
   "cell_type": "markdown",
   "metadata": {
    "id": "BQpzAKfPAa9C"
   },
   "source": [
    "Draw Shapes on Images\n",
    "\n",
    "Write a Python script to:\n",
    "    Read an image named image.jpg.\n",
    "    Draw the following on the image:\n",
    "        A blue circle with a radius of 50 pixels at the center.\n",
    "        A green rectangle of size 100x50 pixels in the bottom-right corner.\n",
    "    Save the modified image as shapes_drawn.jpg."
   ]
  },
  {
   "cell_type": "code",
   "execution_count": 35,
   "metadata": {
    "id": "py_dNtukAs14"
   },
   "outputs": [
    {
     "data": {
      "text/plain": [
       "True"
      ]
     },
     "execution_count": 35,
     "metadata": {},
     "output_type": "execute_result"
    }
   ],
   "source": [
    "imag=image.copy()\n",
    "#imag=np.zeros((500,500,3),dtype='uint8')\n",
    "cv.circle(imag,(imag.shape[1]//2,imag.shape[0]//2),50,(255,0,0),thickness=-1)\n",
    "cv.rectangle(imag,((imag.shape[1]-100),(imag.shape[0]-50)),(imag.shape[1],imag.shape[0]),(0,255,0),thickness=-1)\n",
    "cv.imwrite('shapes_drawn.jpg',imag)"
   ]
  },
  {
   "cell_type": "markdown",
   "metadata": {
    "id": "VATqeumcAt3a"
   },
   "source": [
    "Image Color Space Conversion\n",
    "\n",
    "Write a Python script to:\n",
    "    Read an image named image.jpg.\n",
    "    Convert the image from BGR to HSV color space.\n",
    "    Save the result as hsv_image.jpg."
   ]
  },
  {
   "cell_type": "code",
   "execution_count": 36,
   "metadata": {
    "id": "CMnqcUhRBOy0"
   },
   "outputs": [
    {
     "data": {
      "text/plain": [
       "True"
      ]
     },
     "execution_count": 36,
     "metadata": {},
     "output_type": "execute_result"
    }
   ],
   "source": [
    "hsv=cv.cvtColor(image,cv.COLOR_BGR2HSV)\n",
    "cv.imwrite('hsv_image.jpg',hsv)"
   ]
  },
  {
   "cell_type": "markdown",
   "metadata": {
    "id": "MZcUXAPZBPIw"
   },
   "source": [
    "Split Image into Color Channels\n",
    "\n",
    "Write a Python function to split an input image named colorful.jpg into its three color channels (Blue, Green, Red). Save each channel as a separate grayscale image."
   ]
  },
  {
   "cell_type": "code",
   "execution_count": 37,
   "metadata": {
    "id": "om_y1DT7BQA2"
   },
   "outputs": [
    {
     "data": {
      "text/plain": [
       "True"
      ]
     },
     "execution_count": 37,
     "metadata": {},
     "output_type": "execute_result"
    }
   ],
   "source": [
    "colorful=image.copy()\n",
    "blue,green,red=cv.split(colorful)\n",
    "cv.imwrite('blue.jpg',blue)\n",
    "cv.imwrite('green.jpg',green)\n",
    "cv.imwrite('red.jpg',red)"
   ]
  },
  {
   "cell_type": "markdown",
   "metadata": {
    "id": "oEqKIeoGBjxb"
   },
   "source": [
    "Feel free to reach out to us."
   ]
  }
 ],
 "metadata": {
  "colab": {
   "authorship_tag": "ABX9TyMbfVC6cAWZFk9Wi7M9xCAC",
   "provenance": []
  },
  "kernelspec": {
   "display_name": "Python 3",
   "name": "python3"
  },
  "language_info": {
   "codemirror_mode": {
    "name": "ipython",
    "version": 3
   },
   "file_extension": ".py",
   "mimetype": "text/x-python",
   "name": "python",
   "nbconvert_exporter": "python",
   "pygments_lexer": "ipython3",
   "version": "3.13.1"
  }
 },
 "nbformat": 4,
 "nbformat_minor": 0
}
