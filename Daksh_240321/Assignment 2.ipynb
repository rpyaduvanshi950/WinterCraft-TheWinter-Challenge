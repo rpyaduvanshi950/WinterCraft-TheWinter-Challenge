{
 "cells": [
  {
   "cell_type": "markdown",
   "metadata": {
    "id": "XKHxTSHk-m_O"
   },
   "source": [
    "\n",
    "Grayscale Conversion.\n",
    "\n",
    "Write a Python script to read an image named image.jpg, convert it to grayscale, and save the result as output_gray.jpg."
   ]
  },
  {
   "cell_type": "code",
   "execution_count": 8,
   "metadata": {},
   "outputs": [],
   "source": [
    "import cv2 as cv\n",
    "import numpy as np\n",
    "import os\n",
    "\n"
   ]
  },
  {
   "cell_type": "code",
   "execution_count": 2,
   "metadata": {
    "id": "Zb2sLaXp-11r"
   },
   "outputs": [
    {
     "data": {
      "text/plain": [
       "-1"
      ]
     },
     "execution_count": 2,
     "metadata": {},
     "output_type": "execute_result"
    }
   ],
   "source": [
    "img = cv.imread('image.jpeg')\n",
    "gray = cv.cvtColor(img, cv.COLOR_BGR2GRAY)\n",
    "cv.imwrite('output_gray.jpg',gray)\n",
    "cv.imshow('original',img)\n",
    "cv.imshow('grayscale',gray)\n",
    "cv.waitKey(0)"
   ]
  },
  {
   "cell_type": "markdown",
   "metadata": {
    "id": "x8VlxABO-2A9"
   },
   "source": [
    "Capture and Save Webcam Frames.\n",
    "\n",
    "Write a Python script using cv2.VideoCapture() to:\n",
    "1. Continuously capture video frames from your webcam.\n",
    "\n",
    "2. Display each frame in a window.\n",
    "\n",
    "3. Save every 30th frame as an image in a folder called frames."
   ]
  },
  {
   "cell_type": "code",
   "execution_count": 9,
   "metadata": {
    "id": "ex9AgLXS_GN8"
   },
   "outputs": [],
   "source": [
    "video = cv.VideoCapture(0)\n",
    "count =0\n",
    "if not os.path.exists('frames'):\n",
    "    os.makedirs('frames')\n",
    "while True:\n",
    "    isTrue, frame = video.read()\n",
    "    cv.imshow('frame',frame)\n",
    "    count+=1\n",
    "    if count%30 == 0:\n",
    "        cv.imwrite('frames/%d.jpg' % count,frame)\n",
    "    if cv.waitKey(100) & 0xFF == ord('e'):\n",
    "        break\n",
    "video.release()\n",
    "cv.destroyAllWindows()\n"
   ]
  },
  {
   "cell_type": "markdown",
   "metadata": {
    "id": "2TLPG4qL_Gan"
   },
   "source": [
    "Write a Python script to perform the following tasks:\n",
    "\n",
    "1. Rotate an image named image.jpg by 90 degrees clockwise and save the result as rotated_image.jpg.\n",
    "\n",
    "\n",
    "2. Crop a central 200x200 region from the same image (original size is 800x600 pixels) and save it as cropped_image.jpg."
   ]
  },
  {
   "cell_type": "code",
   "execution_count": 3,
   "metadata": {
    "id": "xrumakIS_18v"
   },
   "outputs": [
    {
     "data": {
      "text/plain": [
       "-1"
      ]
     },
     "execution_count": 3,
     "metadata": {},
     "output_type": "execute_result"
    }
   ],
   "source": [
    "img = cv.imread('image.jpeg')\n",
    "#rotate\n",
    "def rotate(img, angle, rotPoint = None):\n",
    "    (height,width) = img.shape[:2]\n",
    "    if rotPoint is None:\n",
    "        rotPoint = (width//2,height//2)\n",
    "    rotMatrix = cv.getRotationMatrix2D(rotPoint,angle,1.0)\n",
    "    dimensions = (width,height)\n",
    "    return cv.warpAffine(img,rotMatrix,dimensions)\n",
    "rotated = rotate(img,-90)\n",
    "cv.imwrite('rotated_image.jpg',rotated)\n",
    "cv.imshow('Rotated',rotated)\n",
    "cv.waitKey(0)\n",
    "#resizing and cropping\n",
    "resized = cv.resize(rotated,(800,600),interpolation=cv.INTER_CUBIC)\n",
    "cv.imwrite('resized.jpg',resized)\n",
    "cropped = resized[200:400,300:500]\n",
    "cv.imwrite('cropped_image.jpg',cropped)\n",
    "cv.imshow('resized',resized)\n",
    "cv.imshow('cropped',cropped)\n",
    "cv.waitKey(0)"
   ]
  },
  {
   "cell_type": "markdown",
   "metadata": {
    "id": "vWzqg01C_2G4"
   },
   "source": [
    "Canny Edge Detection in Video\n",
    "\n",
    "Write a Python program to:\n",
    "\n",
    "Capture video frames continuously for 10 seconds.\n",
    "\n",
    "Apply the Canny edge detection algorithm to each frame.\n",
    "\n",
    "Display the original frame and its edges side by side in a single window.\n",
    "\n",
    "Stop capturing when the user presses the 'q' key."
   ]
  },
  {
   "cell_type": "code",
   "execution_count": null,
   "metadata": {
    "id": "ZW4uyco4ACP2"
   },
   "outputs": [],
   "source": [
    "video = cv.VideoCapture(0)\n"
   ]
  },
  {
   "cell_type": "markdown",
   "metadata": {
    "id": "X3lImf4FAC4B"
   },
   "source": [
    "Gaussian Blurring\n",
    "\n",
    "Write a Python script to Read an image named image.jpg Apply a Gaussian blur with a kernel size of 5x5 Save the blurred image as gaussian_blur.jpg."
   ]
  },
  {
   "cell_type": "code",
   "execution_count": 4,
   "metadata": {
    "id": "xC9VQ6_kAapt"
   },
   "outputs": [
    {
     "data": {
      "text/plain": [
       "-1"
      ]
     },
     "execution_count": 4,
     "metadata": {},
     "output_type": "execute_result"
    }
   ],
   "source": [
    "img = cv.imread('image.jpeg')\n",
    "blur = cv.GaussianBlur(img,(5,5),cv.BORDER_DEFAULT)\n",
    "cv.imwrite('gaussian_blur.jpg',blur)\n",
    "cv.imshow('blur',blur)\n",
    "cv.waitKey(0)"
   ]
  },
  {
   "cell_type": "markdown",
   "metadata": {
    "id": "BQpzAKfPAa9C"
   },
   "source": [
    "Draw Shapes on Images\n",
    "\n",
    "Write a Python script to:\n",
    "    Read an image named image.jpg.\n",
    "    Draw the following on the image:\n",
    "        A blue circle with a radius of 50 pixels at the center.\n",
    "        A green rectangle of size 100x50 pixels in the bottom-right corner.\n",
    "    Save the modified image as shapes_drawn.jpg."
   ]
  },
  {
   "cell_type": "code",
   "execution_count": 5,
   "metadata": {
    "id": "py_dNtukAs14"
   },
   "outputs": [
    {
     "data": {
      "text/plain": [
       "-1"
      ]
     },
     "execution_count": 5,
     "metadata": {},
     "output_type": "execute_result"
    }
   ],
   "source": [
    "img = cv.imread('image.jpeg')\n",
    "cv.circle(img,(img.shape[1]//2,img.shape[0]//2),50,(255,0,0),thickness=-1)\n",
    "cv.rectangle(img, (img.shape[1]-100,img.shape[0]-50),(img.shape[1],img.shape[0]),(0,255,0),thickness=-1)\n",
    "cv.imwrite('shapes_drawn.jpg',img)\n",
    "cv.imshow('modified',img)\n",
    "cv.waitKey(0)"
   ]
  },
  {
   "cell_type": "markdown",
   "metadata": {
    "id": "VATqeumcAt3a"
   },
   "source": [
    "Image Color Space Conversion\n",
    "\n",
    "Write a Python script to:\n",
    "    Read an image named image.jpg.\n",
    "    Convert the image from BGR to HSV color space.\n",
    "    Save the result as hsv_image.jpg."
   ]
  },
  {
   "cell_type": "code",
   "execution_count": 6,
   "metadata": {
    "id": "CMnqcUhRBOy0"
   },
   "outputs": [
    {
     "data": {
      "text/plain": [
       "-1"
      ]
     },
     "execution_count": 6,
     "metadata": {},
     "output_type": "execute_result"
    }
   ],
   "source": [
    "img = cv.imread('image.jpeg')\n",
    "hsv = cv.cvtColor(img,cv.COLOR_BGR2HSV)\n",
    "cv.imwrite('hsv_image.jpg',hsv)\n",
    "cv.imshow('hsv',hsv)\n",
    "cv.waitKey(0)"
   ]
  },
  {
   "cell_type": "markdown",
   "metadata": {
    "id": "MZcUXAPZBPIw"
   },
   "source": [
    "Split Image into Color Channels\n",
    "\n",
    "Write a Python function to split an input image named colorful.jpg into its three color channels (Blue, Green, Red). Save each channel as a separate grayscale image."
   ]
  },
  {
   "cell_type": "code",
   "execution_count": 7,
   "metadata": {
    "id": "om_y1DT7BQA2"
   },
   "outputs": [
    {
     "data": {
      "text/plain": [
       "-1"
      ]
     },
     "execution_count": 7,
     "metadata": {},
     "output_type": "execute_result"
    }
   ],
   "source": [
    "img = cv.imread('image.jpeg')\n",
    "cv.imshow('original',img)\n",
    "b,g,r = cv.split(img)\n",
    "cv.imwrite('bluechannel.jpg',b)\n",
    "cv.imwrite('greenchannel.jpg',g)\n",
    "cv.imwrite('redchannel.jpg',r)\n",
    "cv.imshow('blue',b)\n",
    "cv.imshow('green',g)\n",
    "cv.imshow('red',r)\n",
    "cv.waitKey(0)"
   ]
  },
  {
   "cell_type": "code",
   "execution_count": null,
   "metadata": {},
   "outputs": [],
   "source": []
  },
  {
   "cell_type": "markdown",
   "metadata": {
    "id": "oEqKIeoGBjxb"
   },
   "source": [
    "Feel free to reach out to us."
   ]
  }
 ],
 "metadata": {
  "colab": {
   "authorship_tag": "ABX9TyMbfVC6cAWZFk9Wi7M9xCAC",
   "provenance": []
  },
  "kernelspec": {
   "display_name": "Python 3",
   "name": "python3"
  },
  "language_info": {
   "codemirror_mode": {
    "name": "ipython",
    "version": 3
   },
   "file_extension": ".py",
   "mimetype": "text/x-python",
   "name": "python",
   "nbconvert_exporter": "python",
   "pygments_lexer": "ipython3",
   "version": "3.12.4"
  }
 },
 "nbformat": 4,
 "nbformat_minor": 0
}
