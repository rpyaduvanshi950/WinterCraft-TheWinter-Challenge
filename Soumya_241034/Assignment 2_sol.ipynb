{
 "cells": [
  {
   "cell_type": "markdown",
   "metadata": {
    "id": "XKHxTSHk-m_O"
   },
   "source": [
    "\n",
    "Grayscale Conversion.\n",
    "\n",
    "Write a Python script to read an image named image.jpg, convert it to grayscale, and save the result as output_gray.jpg."
   ]
  },
  {
   "cell_type": "code",
   "metadata": {
    "id": "Zb2sLaXp-11r"
   },
   "source": [
    "# Write your code here.\n",
    "import cv2 as cv\n",
    "image = cv.imread('image.jpg')\n",
    "gray = cv.cvtColor(image,cv.COLOR_BGR2GRAY)\n",
    "cv.imshow('gray',gray)\n",
    "cv.waitKey(0)"
   ],
   "outputs": [],
   "execution_count": null
  },
  {
   "cell_type": "markdown",
   "metadata": {
    "id": "x8VlxABO-2A9"
   },
   "source": [
    "Capture and Save Webcam Frames.\n",
    "\n",
    "Write a Python script using cv2.VideoCapture() to:\n",
    "1. Continuously capture video frames from your webcam.\n",
    "\n",
    "2. Display each frame in a window.\n",
    "\n",
    "3. Save every 30th frame as an image in a folder called frames."
   ]
  },
  {
   "cell_type": "code",
   "metadata": {
    "id": "ex9AgLXS_GN8"
   },
   "source": [
    " # Write your code here.\n",
    "import cv2 as cv\n",
    "import os\n",
    "os.makedirs('frames',exist_ok=True)\n",
    "capture = cv.VideoCapture(0)\n",
    "while True:\n",
    "    ret,frame = capture.read()\n",
    "    cv.imshow('frame',frame)\n",
    "    if cv.waitKey(1) & 0xFF == ord('q'):\n",
    "        break\n",
    "    if ret == True:\n",
    "        if(capture.get(cv.CAP_PROP_POS_FRAMES)%30 == 0):\n",
    "            cv.imwrite(os.path.join('frames',f'{capture.get(cv.CAP_PROP_POS_FRAMES)}.jpg'),frame)\n",
    "capture.release()\n",
    "cv.destroyAllWindows()"
   ],
   "outputs": [],
   "execution_count": null
  },
  {
   "cell_type": "markdown",
   "metadata": {
    "id": "2TLPG4qL_Gan"
   },
   "source": [
    "Write a Python script to perform the following tasks:\n",
    "\n",
    "1. Rotate an image named image.jpg by 90 degrees clockwise and save the result as rotated_image.jpg.\n",
    "\n",
    "\n",
    "2. Crop a central 200x200 region from the same image (original size is 800x600 pixels) and save it as cropped_image.jpg."
   ]
  },
  {
   "cell_type": "code",
   "metadata": {
    "id": "xrumakIS_18v"
   },
   "source": [
    " # Write your code here.\n",
    "img = cv.imread('image.jpg')\n",
    "rotated_image = cv.rotate(img,cv.ROTATE_90_CLOCKWISE)\n",
    "cropped_image = rotated_image[100:300,100:300]\n",
    "cv.imshow('rotated_image',rotated_image)\n",
    "cv.imshow('cropped_image',cropped_image)\n",
    "cv.waitKey(0)\n",
    "cv.imwrite('rotated_image.jpg',rotated_image)\n",
    "cv.imwrite('cropped_image.jpg',cropped_image)"
   ],
   "outputs": [],
   "execution_count": null
  },
  {
   "cell_type": "markdown",
   "metadata": {
    "id": "vWzqg01C_2G4"
   },
   "source": [
    "Canny Edge Detection in Video\n",
    "\n",
    "Write a Python program to:\n",
    "\n",
    "Capture video frames continuously for 10 seconds.\n",
    "\n",
    "Apply the Canny edge detection algorithm to each frame.\n",
    "\n",
    "Display the original frame and its edges side by side in a single window.\n",
    "\n",
    "Stop capturing when the user presses the 'q' key."
   ]
  },
  {
   "cell_type": "code",
   "metadata": {
    "id": "ZW4uyco4ACP2",
    "ExecuteTime": {
     "end_time": "2024-12-19T12:18:49.581306Z",
     "start_time": "2024-12-19T12:18:01.397103Z"
    }
   },
   "source": [
    " # Write your code here.\n",
    "import cv2 as cv\n",
    "import numpy as np\n",
    "import matplotlib.pyplot as plt\n",
    "vid = cv.VideoCapture(0)\n",
    "while True:\n",
    "     ret,frame = vid.read()\n",
    "     if ret == True:\n",
    "         edges = cv.Canny(frame,100,200)\n",
    "         edges = cv.cvtColor(edges,cv.COLOR_GRAY2BGR)\n",
    "\n",
    "         canvas = np.zeros((frame.shape[0],frame.shape[1]*2,3),np.uint8)\n",
    "         canvas[:,:frame.shape[1]] = frame\n",
    "         canvas[:,frame.shape[1]:] = edges\n",
    "         cv.imshow('video_2',canvas)\n",
    "\n",
    "         if cv.waitKey(1) & 0xFF == ord('q'):\n",
    "             break\n",
    "     else:\n",
    "         break\n",
    "vid.release()\n",
    "cv.destroyAllWindows()"
   ],
   "outputs": [],
   "execution_count": 29
  },
  {
   "cell_type": "markdown",
   "metadata": {
    "id": "X3lImf4FAC4B"
   },
   "source": [
    "Gaussian Blurring\n",
    "\n",
    "Write a Python script to Read an image named image.jpg Apply a Gaussian blur with a kernel size of 5x5 Save the blurred image as gaussian_blur.jpg."
   ]
  },
  {
   "cell_type": "code",
   "metadata": {
    "id": "xC9VQ6_kAapt",
    "ExecuteTime": {
     "end_time": "2024-12-19T12:21:00.868821Z",
     "start_time": "2024-12-19T12:20:59.230433Z"
    }
   },
   "source": [
    "# Write your code here.\n",
    "import cv2 as cv\n",
    "img = cv.imread('image.jpg')\n",
    "blurred = cv.GaussianBlur(img,(5,5),1)\n",
    "cv.imshow('blurred',blurred)\n",
    "cv.imwrite('gaussian_blur.jpg',blurred)\n",
    "cv.waitKey(0)\n",
    "\n"
   ],
   "outputs": [
    {
     "data": {
      "text/plain": [
       "-1"
      ]
     },
     "execution_count": 35,
     "metadata": {},
     "output_type": "execute_result"
    }
   ],
   "execution_count": 35
  },
  {
   "cell_type": "markdown",
   "metadata": {
    "id": "BQpzAKfPAa9C"
   },
   "source": [
    "Draw Shapes on Images\n",
    "\n",
    "Write a Python script to:\n",
    "    Read an image named image.jpg.\n",
    "    Draw the following on the image:\n",
    "        A blue circle with a radius of 50 pixels at the center.\n",
    "        A green rectangle of size 100x50 pixels in the bottom-right corner.\n",
    "    Save the modified image as shapes_drawn.jpg."
   ]
  },
  {
   "cell_type": "code",
   "metadata": {
    "id": "py_dNtukAs14",
    "ExecuteTime": {
     "end_time": "2024-12-19T12:45:47.885820Z",
     "start_time": "2024-12-19T12:45:45.918823Z"
    }
   },
   "source": [
    "# Write your code here.\n",
    "import cv2 as cv\n",
    "img = cv.imread('image.jpg')\n",
    "cv.circle(img,(img.shape[1]//2,img.shape[0]//2),50,(255,0,0),-1)\n",
    "cv.rectangle(img,(img.shape[1]-100,img.shape[0] - 50),(img.shape[1],img.shape[0]),(0,255,0),-1)\n",
    "cv.imshow('shapes_drawn',img)\n",
    "cv.imwrite('shapes_drawn.jpg',img)\n",
    "cv.waitKey(0)"
   ],
   "outputs": [
    {
     "data": {
      "text/plain": [
       "-1"
      ]
     },
     "execution_count": 41,
     "metadata": {},
     "output_type": "execute_result"
    }
   ],
   "execution_count": 41
  },
  {
   "cell_type": "markdown",
   "metadata": {
    "id": "VATqeumcAt3a"
   },
   "source": [
    "Image Color Space Conversion\n",
    "\n",
    "Write a Python script to:\n",
    "    Read an image named image.jpg.\n",
    "    Convert the image from BGR to HSV color space.\n",
    "    Save the result as hsv_image.jpg."
   ]
  },
  {
   "cell_type": "code",
   "metadata": {
    "id": "CMnqcUhRBOy0",
    "ExecuteTime": {
     "end_time": "2024-12-19T12:46:44.848623Z",
     "start_time": "2024-12-19T12:46:42.001066Z"
    }
   },
   "source": [
    "# Write your code here.\n",
    "import cv2 as cv\n",
    "img = cv.imread('image.jpg')\n",
    "hsv_image = cv.cvtColor(img,cv.COLOR_BGR2HSV)\n",
    "cv.imshow('hsv_image',hsv_image)\n",
    "cv.imwrite('hsv_image.jpg',hsv_image)\n",
    "cv.waitKey(0)"
   ],
   "outputs": [
    {
     "data": {
      "text/plain": [
       "-1"
      ]
     },
     "execution_count": 42,
     "metadata": {},
     "output_type": "execute_result"
    }
   ],
   "execution_count": 42
  },
  {
   "cell_type": "markdown",
   "metadata": {
    "id": "MZcUXAPZBPIw"
   },
   "source": [
    "Split Image into Color Channels\n",
    "\n",
    "Write a Python function to split an input image named colorful.jpg into its three color channels (Blue, Green, Red). Save each channel as a separate grayscale image."
   ]
  },
  {
   "cell_type": "code",
   "metadata": {
    "id": "om_y1DT7BQA2",
    "ExecuteTime": {
     "end_time": "2024-12-19T12:48:11.297872Z",
     "start_time": "2024-12-19T12:48:01.748357Z"
    }
   },
   "source": [
    "# Write your code here\n",
    "import cv2 as cv\n",
    "img = cv.imread('image.jpg')\n",
    "blue,green,red = cv.split(img)\n",
    "cv.imshow('blue',blue)\n",
    "cv.imshow('green',green)\n",
    "cv.imshow('red',red)\n",
    "cv.imwrite('blue.jpg',blue)\n",
    "cv.imwrite('green.jpg',green)\n",
    "cv.imwrite('red.jpg',red)\n",
    "cv.waitKey(0)"
   ],
   "outputs": [
    {
     "data": {
      "text/plain": [
       "-1"
      ]
     },
     "execution_count": 43,
     "metadata": {},
     "output_type": "execute_result"
    }
   ],
   "execution_count": 43
  },
  {
   "cell_type": "code",
   "metadata": {
    "id": "kBXegGVlBiw7"
   },
   "source": [],
   "outputs": [],
   "execution_count": null
  },
  {
   "cell_type": "markdown",
   "metadata": {
    "id": "oEqKIeoGBjxb"
   },
   "source": [
    "Feel free to reach out to us."
   ]
  }
 ],
 "metadata": {
  "colab": {
   "authorship_tag": "ABX9TyMbfVC6cAWZFk9Wi7M9xCAC",
   "provenance": []
  },
  "kernelspec": {
   "display_name": "Python 3 (ipykernel)",
   "name": "python3",
   "language": "python"
  },
  "language_info": {
   "codemirror_mode": {
    "name": "ipython",
    "version": 3
   },
   "file_extension": ".py",
   "mimetype": "text/x-python",
   "name": "python",
   "nbconvert_exporter": "python",
   "pygments_lexer": "ipython3",
   "version": "3.12.5"
  }
 },
 "nbformat": 4,
 "nbformat_minor": 0
}
