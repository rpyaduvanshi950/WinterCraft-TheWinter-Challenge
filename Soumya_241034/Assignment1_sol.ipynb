{
 "cells": [
  {
   "cell_type": "markdown",
   "metadata": {
    "id": "UOzd0zRXW5Uv"
   },
   "source": [
    "# Week-1 Assignment\n",
    "\n",
    "*Welcome to your first assignment for the SimuTech Winter Project 2022! I hope you are excited to implement and test everything you have learned up until now. There is an interesting set of questions for you to refine your acquired skills as you delve into hands-on coding and deepen your understanding of numpy, pandas, and data visualization libraries.*"
   ]
  },
  {
   "cell_type": "markdown",
   "metadata": {
    "id": "2XFUXyq9Y9TG"
   },
   "source": [
    "# Section 0 : Importing Libraries"
   ]
  },
  {
   "cell_type": "markdown",
   "metadata": {
    "id": "D_bzcLusjSO0"
   },
   "source": [
    "*Let's begin by importing numpy, pandas and matplotlib.*"
   ]
  },
  {
   "cell_type": "code",
   "execution_count": 1,
   "metadata": {
    "id": "jdwX7bI7aGeY"
   },
   "outputs": [],
   "source": [
    "#your code here\n",
    "import numpy as np\n",
    "import pandas as pd\n",
    "import matplotlib as mp"
   ]
  },
  {
   "cell_type": "markdown",
   "metadata": {
    "id": "LM25mz5ta-Q_"
   },
   "source": [
    "# Section 1 : Playing with Python and Numpy"
   ]
  },
  {
   "cell_type": "markdown",
   "metadata": {
    "id": "TcFQVqhAdQw_"
   },
   "source": [
    "### Q1. Matrix Multiplication"
   ]
  },
  {
   "cell_type": "markdown",
   "metadata": {
    "id": "6Dcai9pys0j8"
   },
   "source": [
    "##### (i) Check if matrix multiplication is valid"
   ]
  },
  {
   "cell_type": "code",
   "execution_count": 2,
   "metadata": {
    "id": "0qC4txIss3gG"
   },
   "outputs": [],
   "source": [
    "def isValid(A,B):\n",
    "    A_shape = np.array(A.shape)\n",
    "    B_shape = np.array(B.shape)\n",
    "    if A_shape[1] == B_shape[0]:\n",
    "        return 1\n",
    "    else:\n",
    "        return 0\n"
   ]
  },
  {
   "cell_type": "markdown",
   "metadata": {
    "id": "OPTfRGlTdXxa"
   },
   "source": [
    "##### (ii) Using loops (without using numpy)"
   ]
  },
  {
   "cell_type": "code",
   "execution_count": 3,
   "metadata": {
    "id": "V8F5ETsRct3S"
   },
   "outputs": [],
   "source": [
    "def matrix_multiply(A,B):\n",
    "    A_shape = np.array(A.shape)\n",
    "    B_shape = np.array(B.shape)\n",
    "    C = np.zeros((A_shape[0],B_shape[1]))\n",
    "    for i in range(0,A_shape[0]):\n",
    "        \n",
    "        for j in range(0,B_shape[1]):\n",
    "            \n",
    "            for k in range(0,B_shape[0]):\n",
    "                C[i][j] += (A[i][k]*B[k][j])\n",
    "                k+=1\n",
    "            j+=1\n",
    "        i+=1\n",
    "    return C\n",
    "\n",
    "  "
   ]
  },
  {
   "cell_type": "markdown",
   "metadata": {
    "id": "umUgUTSWdos8"
   },
   "source": [
    "##### (iii) Using numpy"
   ]
  },
  {
   "cell_type": "code",
   "execution_count": 4,
   "metadata": {
    "id": "-tdXlCHrduBP"
   },
   "outputs": [],
   "source": [
    "def matrix_multiply_2(A,B):\n",
    "    return np.matmul(A,B)\n",
    "     "
   ]
  },
  {
   "cell_type": "markdown",
   "metadata": {
    "id": "2nMFnl84edJG"
   },
   "source": [
    "##### (iv) Testing your code\n",
    "\n",
    "Run the following cell to check if your functions are working properly.\n",
    "\n",
    "*Expected output:*\n",
    "[ [102 108 114]\n",
    " [246 261 276]\n",
    " [390 414 438]\n",
    " [534 567 600] ]"
   ]
  },
  {
   "cell_type": "code",
   "execution_count": 5,
   "metadata": {
    "id": "09rX_Cm9ezmq"
   },
   "outputs": [
    {
     "name": "stdout",
     "output_type": "stream",
     "text": [
      "Result using loops: [[102. 108. 114.]\n",
      " [246. 261. 276.]\n",
      " [390. 414. 438.]\n",
      " [534. 567. 600.]]\n",
      "Result using numpy: [[102 108 114]\n",
      " [246 261 276]\n",
      " [390 414 438]\n",
      " [534 567 600]]\n"
     ]
    }
   ],
   "source": [
    "A = np.array([\n",
    "    [1, 2, 3],\n",
    "    [4, 5, 6],\n",
    "    [7, 8, 9],\n",
    "    [10, 11, 12]\n",
    "])\n",
    "\n",
    "B = np.array([\n",
    "    [13, 14, 15],\n",
    "    [16, 17, 18],\n",
    "    [19, 20, 21]\n",
    "])\n",
    "\n",
    "if isValid(A,B):\n",
    "  print(f\"Result using loops: {matrix_multiply(A,B)}\")\n",
    "  print(f\"Result using numpy: {matrix_multiply_2(A,B)}\")\n",
    "else:\n",
    "  print(f\"Matrix multiplication is not valid\")"
   ]
  },
  {
   "cell_type": "markdown",
   "metadata": {
    "id": "5hfP7Ao1fwqV"
   },
   "source": [
    "### Q2. Z-Score Normalisation"
   ]
  },
  {
   "cell_type": "markdown",
   "metadata": {
    "id": "0e81Xx5Kw_CQ"
   },
   "source": [
    "Z-score normalization refers to the process of normalizing every value in a dataset such that the mean of all of the values is 0 and the standard deviation is 1.\n",
    "\n",
    "We use the following formula to perform a z-score normalization on every value in a dataset:\n",
    "\n",
    "New value = (x – μ) / σ\n",
    "\n",
    "where:\n",
    "\n",
    "x: Original value\n",
    "\n",
    "μ: Mean of data\n",
    "\n",
    "σ: Standard deviation of data"
   ]
  },
  {
   "cell_type": "markdown",
   "metadata": {
    "id": "GP_MuyUbguSR"
   },
   "source": [
    "##### (i) Without using numpy"
   ]
  },
  {
   "cell_type": "code",
   "execution_count": 6,
   "metadata": {
    "id": "0vix8qaaghwP"
   },
   "outputs": [],
   "source": [
    "def mean(x):\n",
    "  #your code here\n",
    "  return np.sum(x)/len(x)\n"
   ]
  },
  {
   "cell_type": "code",
   "execution_count": 7,
   "metadata": {
    "id": "j1qabel-g_f5"
   },
   "outputs": [],
   "source": [
    "import cmath\n",
    "def standard_deviation(x):\n",
    "    sum = 0\n",
    "    for i in range(0,len(x)):\n",
    "        sum+=(x[i]**2)\n",
    "    sd1 = sum/len(x)\n",
    "    return cmath.sqrt(sd1 - (mean(x)**2)).real"
   ]
  },
  {
   "cell_type": "code",
   "execution_count": 8,
   "metadata": {
    "id": "797ewbNqhEpY"
   },
   "outputs": [],
   "source": [
    "def zscore_normalisation(x):\n",
    "  mean1 = mean(x)\n",
    "  sd = standard_deviation(x)\n",
    "  result = np.zeros(len(x))\n",
    "  for i in range(0,len(x)):\n",
    "    result[i] = (x[i] - mean1)/sd\n",
    "  return result\n",
    "  "
   ]
  },
  {
   "cell_type": "markdown",
   "metadata": {
    "id": "k8dq1wqRhbUB"
   },
   "source": [
    "##### (ii) Using numpy\n",
    "\n",
    "Numpy has in_built functions for calculating mean and standard deviation"
   ]
  },
  {
   "cell_type": "code",
   "execution_count": 9,
   "metadata": {
    "id": "WjxJTUDihsYg"
   },
   "outputs": [],
   "source": [
    "def zscore_normalisation_2(x):\n",
    "  #your code here\n",
    "  mean1 = np.mean(x)\n",
    "  sd = np.std(x)\n",
    "  result = np.zeros(len(x))\n",
    "  for i in range(0,len(x)):\n",
    "    result[i] = (x[i] - mean1)/sd\n",
    "  return result"
   ]
  },
  {
   "cell_type": "markdown",
   "metadata": {
    "id": "glRqKU-_1pue"
   },
   "source": [
    "##### (iii) Testing your code"
   ]
  },
  {
   "cell_type": "markdown",
   "metadata": {
    "id": "Kl7XBymOigCU"
   },
   "source": [
    "Run the following cell to check if your functions are working properly.\n",
    "\n",
    "*Expected Output:* [-1.06753267 -0.99745394 -0.99745394 -0.81057732 -0.41346451 -0.06307086\n",
    "  0.31068237  0.91803138  1.22170588  1.89913361]"
   ]
  },
  {
   "cell_type": "code",
   "execution_count": 10,
   "metadata": {
    "id": "78ptZxf6ipZp"
   },
   "outputs": [
    {
     "name": "stdout",
     "output_type": "stream",
     "text": [
      "Result without using numpy: [-1.06753267 -0.99745394 -0.99745394 -0.81057732 -0.41346451 -0.06307086\n",
      "  0.31068237  0.91803138  1.22170588  1.89913361]\n",
      "Result using numpy: [-1.06753267 -0.99745394 -0.99745394 -0.81057732 -0.41346451 -0.06307086\n",
      "  0.31068237  0.91803138  1.22170588  1.89913361]\n"
     ]
    }
   ],
   "source": [
    "x = [4, 7, 7, 15, 32, 47, 63, 89, 102, 131]\n",
    "print(f\"Result without using numpy: {zscore_normalisation(x)}\")\n",
    "print(f\"Result using numpy: {zscore_normalisation_2(x)}\")"
   ]
  },
  {
   "cell_type": "markdown",
   "metadata": {
    "id": "0WVscJ0z14rp"
   },
   "source": [
    "### Q3. Sigmoid fn and its derivative"
   ]
  },
  {
   "cell_type": "markdown",
   "metadata": {
    "id": "Jfntb0Rg94Tu"
   },
   "source": [
    "The sigmoid function is a mathematical function that maps any input value to a value between 0 and 1.\n",
    "\n",
    "It is defined mathematically as s(x) = 1/(1+e^(-x))."
   ]
  },
  {
   "cell_type": "markdown",
   "metadata": {
    "id": "8SCAPkjO2m7u"
   },
   "source": [
    "##### (i) Write a fn to implement sigmoid fn"
   ]
  },
  {
   "cell_type": "code",
   "execution_count": 11,
   "metadata": {
    "id": "jL_TRQFG2l5m"
   },
   "outputs": [
    {
     "data": {
      "text/plain": [
       "0.8807970779778823"
      ]
     },
     "execution_count": 11,
     "metadata": {},
     "output_type": "execute_result"
    }
   ],
   "source": [
    "import cmath\n",
    "def sigmoidfn(x):\n",
    "  return (1/(1+cmath.e**(-x)))\n",
    "sigmoidfn(2)"
   ]
  },
  {
   "cell_type": "markdown",
   "metadata": {
    "id": "t7KBbl7N3AUM"
   },
   "source": [
    "##### (ii) Write a fn to implement derivative of sigmoid fn"
   ]
  },
  {
   "cell_type": "code",
   "execution_count": 12,
   "metadata": {
    "id": "okjuOpba3KOJ"
   },
   "outputs": [],
   "source": [
    "def derivative(x):\n",
    "  #your code here\n",
    "  sigd = sigmoidfn(x)\n",
    "  result = sigd*(1-sigd)\n",
    "  return result"
   ]
  },
  {
   "cell_type": "markdown",
   "metadata": {
    "id": "NdGTSpsp3mwr"
   },
   "source": [
    "##### (iii) Test your code"
   ]
  },
  {
   "cell_type": "markdown",
   "metadata": {
    "id": "lWY8RBex7gnd"
   },
   "source": [
    "Run the following cell to check if your functions are working properly.\n",
    "\n",
    "*Expected output:*\n",
    "\n",
    "x on applying sigmoid activation fn is: [ [0.99987661 0.88079708 0.99330715 0.5        0.5       ]\n",
    " [0.99908895 0.99330715 0.5        0.5        0.5       ] ]\n",
    "\n",
    "x on applying derivative of sigmoid activation fn is: [ [-1.23379350e-04 -1.04993585e-01 -6.64805667e-03 -2.50000000e-01\n",
    "  -2.50000000e-01]\n",
    " [-9.10221180e-04 -6.64805667e-03 -2.50000000e-01 -2.50000000e-01\n",
    "  -2.50000000e-01] ]"
   ]
  },
  {
   "cell_type": "code",
   "execution_count": 13,
   "metadata": {
    "id": "ssDGpmS33vdA"
   },
   "outputs": [
    {
     "name": "stdout",
     "output_type": "stream",
     "text": [
      "x on applying sigmoid activation fn is: [[0.99987661 0.88079708 0.99330715 0.5        0.5       ]\n",
      " [0.99908895 0.99330715 0.5        0.5        0.5       ]]\n",
      "x on applying derivative of sigmoid activation fn is: [[1.23379350e-04 1.04993585e-01 6.64805667e-03 2.50000000e-01\n",
      "  2.50000000e-01]\n",
      " [9.10221180e-04 6.64805667e-03 2.50000000e-01 2.50000000e-01\n",
      "  2.50000000e-01]]\n"
     ]
    }
   ],
   "source": [
    "x = np.array([\n",
    "    [9,2,5,0,0],\n",
    "    [7,5,0,0,0]\n",
    "])\n",
    "print(f\"x on applying sigmoid activation fn is: {sigmoidfn(x)}\")\n",
    "print(f\"x on applying derivative of sigmoid activation fn is: {derivative(x)}\")"
   ]
  },
  {
   "cell_type": "markdown",
   "metadata": {
    "id": "PMa0cseyZpa1"
   },
   "source": [
    "# Section 2: Exploring Pandas"
   ]
  },
  {
   "cell_type": "markdown",
   "metadata": {
    "id": "DB8e0KVGqV5I"
   },
   "source": [
    "*You have been provided with a dataset which includes information about properties of superheated vapor.*\n",
    "\n",
    "*The dataset consists of the thermophysical properties: specific volume, specific internal energy, specific enthalpy, specific entropy of superheated vapor.*\n",
    "\n",
    "*Pressure is in kPa and Temperature in centigrade. In the dataframe 75, 100, 125, etc. are temperatures.*"
   ]
  },
  {
   "cell_type": "markdown",
   "metadata": {
    "id": "i5Okb_jxZ_VW"
   },
   "source": [
    "### Read the csv file\n"
   ]
  },
  {
   "cell_type": "code",
   "execution_count": 19,
   "metadata": {
    "id": "aQgvyavrcM1l"
   },
   "outputs": [],
   "source": [
    "#your code here\n",
    "prop_shv = pd.read_csv('D:/Repositories/VisionCraft-TheWinter-Challenge/Soumya_241034/superheated_vapor_properties.csv')\n"
   ]
  },
  {
   "cell_type": "markdown",
   "metadata": {
    "id": "Zp8F3rk2cNxy"
   },
   "source": [
    "### Display the shape of data frame\n"
   ]
  },
  {
   "cell_type": "code",
   "execution_count": 20,
   "metadata": {
    "id": "v3Q8kQkucgK0"
   },
   "outputs": [
    {
     "data": {
      "text/plain": [
       "(1089, 37)"
      ]
     },
     "execution_count": 20,
     "metadata": {},
     "output_type": "execute_result"
    }
   ],
   "source": [
    "#your code here\n",
    "prop_shv.shape"
   ]
  },
  {
   "cell_type": "markdown",
   "metadata": {
    "id": "w49cp-8zcgd2"
   },
   "source": [
    "### Return an array containing names of all the columns"
   ]
  },
  {
   "cell_type": "code",
   "execution_count": 21,
   "metadata": {
    "id": "fz4HRb3JcsZp"
   },
   "outputs": [
    {
     "data": {
      "text/html": [
       "<div>\n",
       "<style scoped>\n",
       "    .dataframe tbody tr th:only-of-type {\n",
       "        vertical-align: middle;\n",
       "    }\n",
       "\n",
       "    .dataframe tbody tr th {\n",
       "        vertical-align: top;\n",
       "    }\n",
       "\n",
       "    .dataframe thead th {\n",
       "        text-align: right;\n",
       "    }\n",
       "</style>\n",
       "<table border=\"1\" class=\"dataframe\">\n",
       "  <thead>\n",
       "    <tr style=\"text-align: right;\">\n",
       "      <th></th>\n",
       "      <th>Pressure</th>\n",
       "      <th>Property</th>\n",
       "      <th>Liq_Sat</th>\n",
       "      <th>Vap_Sat</th>\n",
       "      <th>75</th>\n",
       "      <th>100</th>\n",
       "      <th>125</th>\n",
       "      <th>150</th>\n",
       "      <th>175</th>\n",
       "      <th>200</th>\n",
       "      <th>...</th>\n",
       "      <th>425</th>\n",
       "      <th>450</th>\n",
       "      <th>475</th>\n",
       "      <th>500</th>\n",
       "      <th>525</th>\n",
       "      <th>550</th>\n",
       "      <th>575</th>\n",
       "      <th>600</th>\n",
       "      <th>625</th>\n",
       "      <th>650</th>\n",
       "    </tr>\n",
       "  </thead>\n",
       "  <tbody>\n",
       "    <tr>\n",
       "      <th>0</th>\n",
       "      <td>1</td>\n",
       "      <td>V</td>\n",
       "      <td>1</td>\n",
       "      <td>129200</td>\n",
       "      <td>160640.0000</td>\n",
       "      <td>172180.0000</td>\n",
       "      <td>183720.0000</td>\n",
       "      <td>195270.0000</td>\n",
       "      <td>206810.0000</td>\n",
       "      <td>218350.0000</td>\n",
       "      <td>...</td>\n",
       "      <td>NaN</td>\n",
       "      <td>333730.00</td>\n",
       "      <td>NaN</td>\n",
       "      <td>356810.0000</td>\n",
       "      <td>NaN</td>\n",
       "      <td>379880.0000</td>\n",
       "      <td>NaN</td>\n",
       "      <td>402960.0000</td>\n",
       "      <td>NaN</td>\n",
       "      <td>426040.0000</td>\n",
       "    </tr>\n",
       "    <tr>\n",
       "      <th>1</th>\n",
       "      <td>1</td>\n",
       "      <td>U</td>\n",
       "      <td>29.334</td>\n",
       "      <td>2385.2</td>\n",
       "      <td>2480.8000</td>\n",
       "      <td>2516.4000</td>\n",
       "      <td>2552.3000</td>\n",
       "      <td>2588.5000</td>\n",
       "      <td>2624.9000</td>\n",
       "      <td>2661.7000</td>\n",
       "      <td>...</td>\n",
       "      <td>NaN</td>\n",
       "      <td>3049.90</td>\n",
       "      <td>NaN</td>\n",
       "      <td>3132.4000</td>\n",
       "      <td>NaN</td>\n",
       "      <td>3216.7000</td>\n",
       "      <td>NaN</td>\n",
       "      <td>3302.6000</td>\n",
       "      <td>NaN</td>\n",
       "      <td>3390.3000</td>\n",
       "    </tr>\n",
       "    <tr>\n",
       "      <th>2</th>\n",
       "      <td>1</td>\n",
       "      <td>H</td>\n",
       "      <td>29.335</td>\n",
       "      <td>2514.4</td>\n",
       "      <td>2641.5000</td>\n",
       "      <td>2688.6000</td>\n",
       "      <td>2736.0000</td>\n",
       "      <td>2783.7000</td>\n",
       "      <td>2831.7000</td>\n",
       "      <td>2880.1000</td>\n",
       "      <td>...</td>\n",
       "      <td>NaN</td>\n",
       "      <td>3383.60</td>\n",
       "      <td>NaN</td>\n",
       "      <td>3489.2000</td>\n",
       "      <td>NaN</td>\n",
       "      <td>3596.5000</td>\n",
       "      <td>NaN</td>\n",
       "      <td>3705.6000</td>\n",
       "      <td>NaN</td>\n",
       "      <td>3816.4000</td>\n",
       "    </tr>\n",
       "    <tr>\n",
       "      <th>3</th>\n",
       "      <td>1</td>\n",
       "      <td>S</td>\n",
       "      <td>0.106</td>\n",
       "      <td>8.9767</td>\n",
       "      <td>9.3828</td>\n",
       "      <td>9.5136</td>\n",
       "      <td>9.6365</td>\n",
       "      <td>9.7527</td>\n",
       "      <td>9.8629</td>\n",
       "      <td>9.9679</td>\n",
       "      <td>...</td>\n",
       "      <td>NaN</td>\n",
       "      <td>10.82</td>\n",
       "      <td>NaN</td>\n",
       "      <td>10.9612</td>\n",
       "      <td>NaN</td>\n",
       "      <td>11.0957</td>\n",
       "      <td>NaN</td>\n",
       "      <td>11.2243</td>\n",
       "      <td>NaN</td>\n",
       "      <td>11.3476</td>\n",
       "    </tr>\n",
       "    <tr>\n",
       "      <th>4</th>\n",
       "      <td>10</td>\n",
       "      <td>V</td>\n",
       "      <td>1.01</td>\n",
       "      <td>14670</td>\n",
       "      <td>16030.0000</td>\n",
       "      <td>17190.0000</td>\n",
       "      <td>18350.0000</td>\n",
       "      <td>19510.0000</td>\n",
       "      <td>20660.0000</td>\n",
       "      <td>21820.0000</td>\n",
       "      <td>...</td>\n",
       "      <td>NaN</td>\n",
       "      <td>33370.00</td>\n",
       "      <td>NaN</td>\n",
       "      <td>35670.0000</td>\n",
       "      <td>NaN</td>\n",
       "      <td>37980.0000</td>\n",
       "      <td>NaN</td>\n",
       "      <td>40290.0000</td>\n",
       "      <td>NaN</td>\n",
       "      <td>42600.0000</td>\n",
       "    </tr>\n",
       "    <tr>\n",
       "      <th>5</th>\n",
       "      <td>10</td>\n",
       "      <td>U</td>\n",
       "      <td>191.822</td>\n",
       "      <td>2438</td>\n",
       "      <td>2479.7000</td>\n",
       "      <td>2515.6000</td>\n",
       "      <td>2551.6000</td>\n",
       "      <td>2588.0000</td>\n",
       "      <td>2624.5000</td>\n",
       "      <td>2661.4000</td>\n",
       "      <td>...</td>\n",
       "      <td>NaN</td>\n",
       "      <td>3049.80</td>\n",
       "      <td>NaN</td>\n",
       "      <td>3132.3000</td>\n",
       "      <td>NaN</td>\n",
       "      <td>3216.6000</td>\n",
       "      <td>NaN</td>\n",
       "      <td>3302.6000</td>\n",
       "      <td>NaN</td>\n",
       "      <td>3390.3000</td>\n",
       "    </tr>\n",
       "  </tbody>\n",
       "</table>\n",
       "<p>6 rows × 37 columns</p>\n",
       "</div>"
      ],
      "text/plain": [
       "  Pressure Property  Liq_Sat Vap_Sat           75          100          125  \\\n",
       "0        1        V        1  129200  160640.0000  172180.0000  183720.0000   \n",
       "1        1        U   29.334  2385.2    2480.8000    2516.4000    2552.3000   \n",
       "2        1        H   29.335  2514.4    2641.5000    2688.6000    2736.0000   \n",
       "3        1        S    0.106  8.9767       9.3828       9.5136       9.6365   \n",
       "4       10        V     1.01   14670   16030.0000   17190.0000   18350.0000   \n",
       "5       10        U  191.822    2438    2479.7000    2515.6000    2551.6000   \n",
       "\n",
       "           150          175          200  ...  425        450  475  \\\n",
       "0  195270.0000  206810.0000  218350.0000  ...  NaN  333730.00  NaN   \n",
       "1    2588.5000    2624.9000    2661.7000  ...  NaN    3049.90  NaN   \n",
       "2    2783.7000    2831.7000    2880.1000  ...  NaN    3383.60  NaN   \n",
       "3       9.7527       9.8629       9.9679  ...  NaN      10.82  NaN   \n",
       "4   19510.0000   20660.0000   21820.0000  ...  NaN   33370.00  NaN   \n",
       "5    2588.0000    2624.5000    2661.4000  ...  NaN    3049.80  NaN   \n",
       "\n",
       "           500  525          550  575          600  625          650  \n",
       "0  356810.0000  NaN  379880.0000  NaN  402960.0000  NaN  426040.0000  \n",
       "1    3132.4000  NaN    3216.7000  NaN    3302.6000  NaN    3390.3000  \n",
       "2    3489.2000  NaN    3596.5000  NaN    3705.6000  NaN    3816.4000  \n",
       "3      10.9612  NaN      11.0957  NaN      11.2243  NaN      11.3476  \n",
       "4   35670.0000  NaN   37980.0000  NaN   40290.0000  NaN   42600.0000  \n",
       "5    3132.3000  NaN    3216.6000  NaN    3302.6000  NaN    3390.3000  \n",
       "\n",
       "[6 rows x 37 columns]"
      ]
     },
     "execution_count": 21,
     "metadata": {},
     "output_type": "execute_result"
    }
   ],
   "source": [
    "#your code here\n",
    "prop_shv.head(6)"
   ]
  },
  {
   "cell_type": "markdown",
   "metadata": {
    "id": "YkTH9tRWcrH-"
   },
   "source": [
    "### Display the number of null values in each column of the dataframe\n",
    "\n"
   ]
  },
  {
   "cell_type": "code",
   "execution_count": 22,
   "metadata": {
    "id": "GK9-PJPxc3Ot"
   },
   "outputs": [
    {
     "name": "stdout",
     "output_type": "stream",
     "text": [
      "Pressure       0\n",
      "Property       1\n",
      "Liq_Sat        1\n",
      "Vap_Sat        1\n",
      "75          1056\n",
      "100         1016\n",
      "125          976\n",
      "150          896\n",
      "175          768\n",
      "200          640\n",
      "220          816\n",
      "225          800\n",
      "240          816\n",
      "250          688\n",
      "260          768\n",
      "275          680\n",
      "280          760\n",
      "290          976\n",
      "300          120\n",
      "320          960\n",
      "325          272\n",
      "340          953\n",
      "350          136\n",
      "360          953\n",
      "375          408\n",
      "380          953\n",
      "400            1\n",
      "425          409\n",
      "450            1\n",
      "475          409\n",
      "500            1\n",
      "525          545\n",
      "550            1\n",
      "575          681\n",
      "600            1\n",
      "625          953\n",
      "650            1\n",
      "dtype: int64\n"
     ]
    }
   ],
   "source": [
    "#your code here\n",
    "null_values = prop_shv.isnull().sum()\n",
    "print(null_values)"
   ]
  },
  {
   "cell_type": "markdown",
   "metadata": {
    "id": "Av-lcft2c3mx"
   },
   "source": [
    "### Create a column which contains the Pressure and Property columns, seperated with 'at' (For eg. V at 1, H at 101.325). Using this print the following:\n",
    "- Enthalpy at 75 kPa and 573 K\n",
    "- Entropy at 493 K and 250 kPa\n",
    "\n"
   ]
  },
  {
   "cell_type": "code",
   "execution_count": 23,
   "metadata": {
    "id": "B2AihQj_c32C"
   },
   "outputs": [],
   "source": [
    "#your code here\n",
    "prop_shv['Pressure_Property'] = prop_shv['Property'] + \" at \" + prop_shv['Pressure'].astype(str)\n"
   ]
  },
  {
   "cell_type": "markdown",
   "metadata": {
    "id": "GpLtXYRLc4Ho"
   },
   "source": [
    "### Find out the column with the highest number of missing values"
   ]
  },
  {
   "cell_type": "code",
   "execution_count": 24,
   "metadata": {
    "id": "q80Grgeyc4Xn"
   },
   "outputs": [
    {
     "name": "stdout",
     "output_type": "stream",
     "text": [
      "75                   1056\n",
      "100                  1016\n",
      "290                   976\n",
      "125                   976\n",
      "320                   960\n",
      "340                   953\n",
      "380                   953\n",
      "625                   953\n",
      "360                   953\n",
      "150                   896\n",
      "220                   816\n",
      "240                   816\n",
      "225                   800\n",
      "175                   768\n",
      "260                   768\n",
      "280                   760\n",
      "250                   688\n",
      "575                   681\n",
      "275                   680\n",
      "200                   640\n",
      "525                   545\n",
      "475                   409\n",
      "425                   409\n",
      "375                   408\n",
      "325                   272\n",
      "350                   136\n",
      "300                   120\n",
      "Liq_Sat                 1\n",
      "Property                1\n",
      "Vap_Sat                 1\n",
      "550                     1\n",
      "400                     1\n",
      "450                     1\n",
      "500                     1\n",
      "650                     1\n",
      "600                     1\n",
      "Pressure_Property       1\n",
      "Pressure                0\n",
      "dtype: int64\n"
     ]
    }
   ],
   "source": [
    "#your code here\n",
    "null_values = prop_shv.isnull().sum()\n",
    "print(null_values.sort_values(ascending = False))"
   ]
  },
  {
   "cell_type": "code",
   "execution_count": 25,
   "metadata": {},
   "outputs": [
    {
     "name": "stdout",
     "output_type": "stream",
     "text": [
      "<class 'pandas.core.frame.DataFrame'>\n",
      "RangeIndex: 1089 entries, 0 to 1088\n",
      "Data columns (total 38 columns):\n",
      " #   Column             Non-Null Count  Dtype  \n",
      "---  ------             --------------  -----  \n",
      " 0   Pressure           1089 non-null   object \n",
      " 1   Property           1088 non-null   object \n",
      " 2   Liq_Sat            1088 non-null   object \n",
      " 3   Vap_Sat            1088 non-null   object \n",
      " 4   75                 33 non-null     float64\n",
      " 5   100                73 non-null     float64\n",
      " 6   125                113 non-null    float64\n",
      " 7   150                193 non-null    float64\n",
      " 8   175                321 non-null    float64\n",
      " 9   200                449 non-null    float64\n",
      " 10  220                273 non-null    float64\n",
      " 11  225                289 non-null    float64\n",
      " 12  240                273 non-null    float64\n",
      " 13  250                401 non-null    float64\n",
      " 14  260                321 non-null    float64\n",
      " 15  275                409 non-null    float64\n",
      " 16  280                329 non-null    float64\n",
      " 17  290                113 non-null    float64\n",
      " 18  300                969 non-null    float64\n",
      " 19  320                129 non-null    float64\n",
      " 20  325                817 non-null    float64\n",
      " 21  340                136 non-null    float64\n",
      " 22  350                953 non-null    float64\n",
      " 23  360                136 non-null    float64\n",
      " 24  375                681 non-null    float64\n",
      " 25  380                136 non-null    float64\n",
      " 26  400                1088 non-null   float64\n",
      " 27  425                680 non-null    float64\n",
      " 28  450                1088 non-null   float64\n",
      " 29  475                680 non-null    float64\n",
      " 30  500                1088 non-null   float64\n",
      " 31  525                544 non-null    float64\n",
      " 32  550                1088 non-null   float64\n",
      " 33  575                408 non-null    float64\n",
      " 34  600                1088 non-null   float64\n",
      " 35  625                136 non-null    float64\n",
      " 36  650                1088 non-null   float64\n",
      " 37  Pressure_Property  1088 non-null   object \n",
      "dtypes: float64(33), object(5)\n",
      "memory usage: 323.4+ KB\n"
     ]
    }
   ],
   "source": [
    "prop_shv.info()"
   ]
  },
  {
   "cell_type": "markdown",
   "metadata": {
    "id": "74NVHTTac4nv"
   },
   "source": [
    "### What is the average enthalpy of Sat. Liq. at all different pressures in the dataset?"
   ]
  },
  {
   "cell_type": "code",
   "execution_count": 26,
   "metadata": {
    "id": "g3mByhBDdpVr"
   },
   "outputs": [
    {
     "name": "stdout",
     "output_type": "stream",
     "text": [
      "Pressure\n",
      "1            14.943750\n",
      "10           96.328325\n",
      "100         209.315675\n",
      "1000        381.837050\n",
      "10000       701.578375\n",
      "               ...    \n",
      "9600        693.017625\n",
      "975         379.419375\n",
      "9800        697.323025\n",
      "=======       0.000000\n",
      "Pressure      0.000000\n",
      "Name: Liq_Sat, Length: 138, dtype: float64\n"
     ]
    }
   ],
   "source": [
    "#your code here\n",
    "prop_shv['Liq_Sat'] = pd.to_numeric(prop_shv['Liq_Sat'],errors = 'coerce')\n",
    "prop_shv['Liq_Sat']= prop_shv['Liq_Sat'].fillna(0)\n",
    "prop_shv['Liq_Sat'] = prop_shv['Liq_Sat'].astype(float)\n",
    "print(prop_shv.groupby(['Pressure'])['Liq_Sat'].mean())\n",
    "\n"
   ]
  },
  {
   "cell_type": "markdown",
   "metadata": {
    "id": "uS-SuqU8dpxg"
   },
   "source": [
    "### Separate out the V,U,H,S data from the dataset into V_data, U_data, H_data, S_data"
   ]
  },
  {
   "cell_type": "code",
   "execution_count": 27,
   "metadata": {
    "id": "Sg3V9Toyd1Av"
   },
   "outputs": [
    {
     "data": {
      "text/html": [
       "<div>\n",
       "<style scoped>\n",
       "    .dataframe tbody tr th:only-of-type {\n",
       "        vertical-align: middle;\n",
       "    }\n",
       "\n",
       "    .dataframe tbody tr th {\n",
       "        vertical-align: top;\n",
       "    }\n",
       "\n",
       "    .dataframe thead th {\n",
       "        text-align: right;\n",
       "    }\n",
       "</style>\n",
       "<table border=\"1\" class=\"dataframe\">\n",
       "  <thead>\n",
       "    <tr style=\"text-align: right;\">\n",
       "      <th></th>\n",
       "      <th>Pressure</th>\n",
       "      <th>Property</th>\n",
       "      <th>Liq_Sat</th>\n",
       "      <th>Vap_Sat</th>\n",
       "      <th>75</th>\n",
       "      <th>100</th>\n",
       "      <th>125</th>\n",
       "      <th>150</th>\n",
       "      <th>175</th>\n",
       "      <th>200</th>\n",
       "      <th>...</th>\n",
       "      <th>450</th>\n",
       "      <th>475</th>\n",
       "      <th>500</th>\n",
       "      <th>525</th>\n",
       "      <th>550</th>\n",
       "      <th>575</th>\n",
       "      <th>600</th>\n",
       "      <th>625</th>\n",
       "      <th>650</th>\n",
       "      <th>Pressure_Property</th>\n",
       "    </tr>\n",
       "  </thead>\n",
       "  <tbody>\n",
       "    <tr>\n",
       "      <th>0</th>\n",
       "      <td>1</td>\n",
       "      <td>V</td>\n",
       "      <td>1.000</td>\n",
       "      <td>129200</td>\n",
       "      <td>160640.0</td>\n",
       "      <td>172180.0</td>\n",
       "      <td>183720.0</td>\n",
       "      <td>195270.0</td>\n",
       "      <td>206810.0</td>\n",
       "      <td>218350.0</td>\n",
       "      <td>...</td>\n",
       "      <td>333730.0</td>\n",
       "      <td>NaN</td>\n",
       "      <td>356810.0</td>\n",
       "      <td>NaN</td>\n",
       "      <td>379880.0</td>\n",
       "      <td>NaN</td>\n",
       "      <td>402960.0</td>\n",
       "      <td>NaN</td>\n",
       "      <td>426040.0</td>\n",
       "      <td>V at 1</td>\n",
       "    </tr>\n",
       "    <tr>\n",
       "      <th>4</th>\n",
       "      <td>10</td>\n",
       "      <td>V</td>\n",
       "      <td>1.010</td>\n",
       "      <td>14670</td>\n",
       "      <td>16030.0</td>\n",
       "      <td>17190.0</td>\n",
       "      <td>18350.0</td>\n",
       "      <td>19510.0</td>\n",
       "      <td>20660.0</td>\n",
       "      <td>21820.0</td>\n",
       "      <td>...</td>\n",
       "      <td>33370.0</td>\n",
       "      <td>NaN</td>\n",
       "      <td>35670.0</td>\n",
       "      <td>NaN</td>\n",
       "      <td>37980.0</td>\n",
       "      <td>NaN</td>\n",
       "      <td>40290.0</td>\n",
       "      <td>NaN</td>\n",
       "      <td>42600.0</td>\n",
       "      <td>V at 10</td>\n",
       "    </tr>\n",
       "    <tr>\n",
       "      <th>8</th>\n",
       "      <td>20</td>\n",
       "      <td>V</td>\n",
       "      <td>1.017</td>\n",
       "      <td>7649.8</td>\n",
       "      <td>8000.0</td>\n",
       "      <td>8584.7</td>\n",
       "      <td>9167.1</td>\n",
       "      <td>9748.0</td>\n",
       "      <td>10320.0</td>\n",
       "      <td>10900.0</td>\n",
       "      <td>...</td>\n",
       "      <td>16680.0</td>\n",
       "      <td>NaN</td>\n",
       "      <td>17830.0</td>\n",
       "      <td>NaN</td>\n",
       "      <td>18990.0</td>\n",
       "      <td>NaN</td>\n",
       "      <td>20140.0</td>\n",
       "      <td>NaN</td>\n",
       "      <td>21300.0</td>\n",
       "      <td>V at 20</td>\n",
       "    </tr>\n",
       "    <tr>\n",
       "      <th>12</th>\n",
       "      <td>30</td>\n",
       "      <td>V</td>\n",
       "      <td>1.022</td>\n",
       "      <td>5229.3</td>\n",
       "      <td>5322.0</td>\n",
       "      <td>5714.4</td>\n",
       "      <td>6104.6</td>\n",
       "      <td>6493.2</td>\n",
       "      <td>6880.8</td>\n",
       "      <td>7267.5</td>\n",
       "      <td>...</td>\n",
       "      <td>11120.0</td>\n",
       "      <td>NaN</td>\n",
       "      <td>11890.0</td>\n",
       "      <td>NaN</td>\n",
       "      <td>12660.0</td>\n",
       "      <td>NaN</td>\n",
       "      <td>13430.0</td>\n",
       "      <td>NaN</td>\n",
       "      <td>14190.0</td>\n",
       "      <td>V at 30</td>\n",
       "    </tr>\n",
       "    <tr>\n",
       "      <th>16</th>\n",
       "      <td>40</td>\n",
       "      <td>V</td>\n",
       "      <td>1.027</td>\n",
       "      <td>3993.4</td>\n",
       "      <td>NaN</td>\n",
       "      <td>4279.2</td>\n",
       "      <td>4573.3</td>\n",
       "      <td>4865.8</td>\n",
       "      <td>5157.2</td>\n",
       "      <td>5447.8</td>\n",
       "      <td>...</td>\n",
       "      <td>8340.1</td>\n",
       "      <td>NaN</td>\n",
       "      <td>8917.6</td>\n",
       "      <td>NaN</td>\n",
       "      <td>9494.9</td>\n",
       "      <td>NaN</td>\n",
       "      <td>10070.0</td>\n",
       "      <td>NaN</td>\n",
       "      <td>10640.0</td>\n",
       "      <td>V at 40</td>\n",
       "    </tr>\n",
       "  </tbody>\n",
       "</table>\n",
       "<p>5 rows × 38 columns</p>\n",
       "</div>"
      ],
      "text/plain": [
       "   Pressure Property  Liq_Sat Vap_Sat        75       100       125       150  \\\n",
       "0         1        V    1.000  129200  160640.0  172180.0  183720.0  195270.0   \n",
       "4        10        V    1.010   14670   16030.0   17190.0   18350.0   19510.0   \n",
       "8        20        V    1.017  7649.8    8000.0    8584.7    9167.1    9748.0   \n",
       "12       30        V    1.022  5229.3    5322.0    5714.4    6104.6    6493.2   \n",
       "16       40        V    1.027  3993.4       NaN    4279.2    4573.3    4865.8   \n",
       "\n",
       "         175       200  ...       450  475       500  525       550  575  \\\n",
       "0   206810.0  218350.0  ...  333730.0  NaN  356810.0  NaN  379880.0  NaN   \n",
       "4    20660.0   21820.0  ...   33370.0  NaN   35670.0  NaN   37980.0  NaN   \n",
       "8    10320.0   10900.0  ...   16680.0  NaN   17830.0  NaN   18990.0  NaN   \n",
       "12    6880.8    7267.5  ...   11120.0  NaN   11890.0  NaN   12660.0  NaN   \n",
       "16    5157.2    5447.8  ...    8340.1  NaN    8917.6  NaN    9494.9  NaN   \n",
       "\n",
       "         600  625       650  Pressure_Property  \n",
       "0   402960.0  NaN  426040.0             V at 1  \n",
       "4    40290.0  NaN   42600.0            V at 10  \n",
       "8    20140.0  NaN   21300.0            V at 20  \n",
       "12   13430.0  NaN   14190.0            V at 30  \n",
       "16   10070.0  NaN   10640.0            V at 40  \n",
       "\n",
       "[5 rows x 38 columns]"
      ]
     },
     "execution_count": 27,
     "metadata": {},
     "output_type": "execute_result"
    }
   ],
   "source": [
    "#your code here\n",
    "V_data = prop_shv[prop_shv['Property'] == 'V']\n",
    "U_data = prop_shv[prop_shv['Property'] == 'U']\n",
    "H_data = prop_shv[prop_shv['Property'] == 'H']\n",
    "S_data = prop_shv[prop_shv['Property'] == 'S']\n",
    "V_data.head()"
   ]
  },
  {
   "cell_type": "markdown",
   "metadata": {
    "id": "aiNiwCZyqV5U"
   },
   "source": [
    "# Section 4 : Conculsion\n",
    "\n",
    "\n"
   ]
  },
  {
   "cell_type": "markdown",
   "metadata": {
    "id": "jrFuIn48qV5U"
   },
   "source": [
    "*Congratulations on reaching this point! I hope you had fun solving your first assignment and have also built confidence in applying these libraries. If you are wondering, we will cover more about z-score normalization in Week 2, and the sigmoid function will be used in Week 3. After completing this assignment, you are now prepared to learn about machine learning techniques and implement your own machine learning models.*"
   ]
  }
 ],
 "metadata": {
  "colab": {
   "provenance": [],
   "toc_visible": true
  },
  "kernelspec": {
   "display_name": "Python 3",
   "language": "python",
   "name": "python3"
  },
  "language_info": {
   "codemirror_mode": {
    "name": "ipython",
    "version": 3
   },
   "file_extension": ".py",
   "mimetype": "text/x-python",
   "name": "python",
   "nbconvert_exporter": "python",
   "pygments_lexer": "ipython3",
   "version": "3.12.5"
  }
 },
 "nbformat": 4,
 "nbformat_minor": 0
}
