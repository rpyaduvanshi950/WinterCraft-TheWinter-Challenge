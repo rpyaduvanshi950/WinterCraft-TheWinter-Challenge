{
 "cells": [
  {
   "cell_type": "markdown",
   "metadata": {
    "id": "5mTHZEqh-cdR"
   },
   "source": [
    "Grayscale Conversion\n",
    "\n",
    "Write a Python script to read an image named image.jpg, convert it to grayscale, and save the result as output_gray.jpg."
   ]
  },
  {
   "cell_type": "code",
   "execution_count": null,
   "metadata": {
    "id": "MaPflrkW-Zto"
   },
   "outputs": [],
   "source": [
    "import cv2 as cv #importing opencv\n",
    "img=cv.imread(\"image.jpg\")\n",
    "gray=cv.cvtColor(img,cv.COLOR_BGR2GRAY) #converting color\n",
    "cv.imshow(\"output_gray\",gray)\n",
    "cv.waitKey(0)\n",
    "cv.imwrite(\"output_gray.jpg\",gray) #saving the image"
   ]
  },
  {
   "cell_type": "markdown",
   "metadata": {
    "id": "XKHxTSHk-m_O"
   },
   "source": [
    "\n",
    "Grayscale Conversion.\n",
    "\n",
    "Write a Python script to read an image named image.jpg, convert it to grayscale, and save the result as output_gray.jpg."
   ]
  },
  {
   "cell_type": "code",
   "execution_count": null,
   "metadata": {
    "id": "Zb2sLaXp-11r"
   },
   "outputs": [],
   "source": [
    "import cv2 as cv #importing opencv\n",
    "img=cv.imread(\"image.jpg\")\n",
    "gray=cv.cvtColor(img,cv.COLOR_BGR2GRAY) #converting color\n",
    "cv.imshow(\"output_gray\",gray)\n",
    "cv.waitKey(0)\n",
    "cv.imwrite(\"output_gray.jpg\",gray) #saving the image"
   ]
  },
  {
   "cell_type": "markdown",
   "metadata": {
    "id": "x8VlxABO-2A9"
   },
   "source": [
    "Capture and Save Webcam Frames.\n",
    "\n",
    "Write a Python script using cv2.VideoCapture() to:\n",
    "1. Continuously capture video frames from your webcam.\n",
    "\n",
    "2. Display each frame in a window.\n",
    "\n",
    "3. Save every 30th frame as an image in a folder called frames."
   ]
  },
  {
   "cell_type": "code",
   "execution_count": null,
   "metadata": {
    "id": "ex9AgLXS_GN8"
   },
   "outputs": [],
   "source": [
    "import cv2 as cv #importing opencv\n",
    "import os\n",
    "#Not creating a frames directory because it is already created \n",
    "video=cv.VideoCapture(0)\n",
    "count=1\n",
    "while video.isOpened():\n",
    "    success,image=video.read()\n",
    "    if not success:\n",
    "        print(\"Error\")\n",
    "        break\n",
    "    frame_path=os.path.join(\"./frames/\",f\"{count}.jpg\")\n",
    "    if count%30==0:\n",
    "        cv.imwrite(frame_path,image)\n",
    "    count+=1\n",
    "    cv.imshow(f'Frame {count}',image)\n",
    "    if cv.waitKey(1)==ord(\"q\"):\n",
    "        break\n",
    "print(f\"Extraction complete. {count} frames saved in frames folder.\")\n",
    "video.release()\n",
    "cv.destroyAllWindows()"
   ]
  },
  {
   "cell_type": "markdown",
   "metadata": {
    "id": "2TLPG4qL_Gan"
   },
   "source": [
    "Write a Python script to perform the following tasks:\n",
    "\n",
    "1. Rotate an image named image.jpg by 90 degrees clockwise and save the result as rotated_image.jpg.\n",
    "\n",
    "\n",
    "2. Crop a central 200x200 region from the same image (original size is 800x600 pixels) and save it as cropped_image.jpg."
   ]
  },
  {
   "cell_type": "code",
   "execution_count": null,
   "metadata": {
    "id": "xrumakIS_18v"
   },
   "outputs": [],
   "source": [
    "import cv2 as cv #importing opencv\n",
    "\n",
    "#part 1\n",
    "img=cv.imread(\"Image.jpg\")\n",
    "rotate=cv.rotate(img,cv.ROTATE_90_CLOCKWISE)\n",
    "cv.imshow(\"rotated_image\",rotate)\n",
    "cv.imwrite(\"rotated_image.jpg\",rotate)\n",
    "\n",
    "#part 2\n",
    "resize=cv.resize(img,(800,600))\n",
    "cropped=resize[0:200,0:200]\n",
    "cv.imshow(\"cropped_image\",cropped)\n",
    "cv.imwrite(\"cropped_image.jpg\",cropped)\n",
    "cv.waitKey(0)"
   ]
  },
  {
   "cell_type": "markdown",
   "metadata": {
    "id": "vWzqg01C_2G4"
   },
   "source": [
    "Canny Edge Detection in Video\n",
    "\n",
    "Write a Python program to:\n",
    "\n",
    "Capture video frames continuously for 10 seconds.\n",
    "\n",
    "Apply the Canny edge detection algorithm to each frame.\n",
    "\n",
    "Display the original frame and its edges side by side in a single window.\n",
    "\n",
    "Stop capturing when the user presses the 'q' key."
   ]
  },
  {
   "cell_type": "code",
   "execution_count": null,
   "metadata": {
    "id": "ZW4uyco4ACP2"
   },
   "outputs": [],
   "source": [
    "import cv2 as cv #importing opencv\n",
    "import os\n",
    "import time as t\n",
    "import numpy as np\n",
    "\n",
    "os.mkdir(\"./tempc/\")\n",
    "os.mkdir(\"./tempo/\")\n",
    "\n",
    "video=cv.VideoCapture(0)\n",
    "start_time=t.time()\n",
    "count=1\n",
    "while t.time()-start_time<=10:\n",
    "    success, frame=video.read()\n",
    "    if not success:\n",
    "        print('Error')\n",
    "        break\n",
    "    frame_path_canny=os.path.join(\"./tempc/\",f\"{count}.jpg\")\n",
    "    frame_path_og=os.path.join(\"./tempo/\",f\"{count}.jpg\")\n",
    "    canny=cv.Canny(frame,125,175)\n",
    "    #canny_color=cv.cvtColor(canny,cv.COLOR_GRAY2BGR)\n",
    "    cv.imwrite(frame_path_canny,canny)\n",
    "    cv.imwrite(frame_path_og,frame)\n",
    "    #combine_video=np.hstack((frame,canny_color))\n",
    "    cv.imshow(\"Recording Video\",frame)\n",
    "    count+=1\n",
    "    if cv.waitKey(1)==ord('q'):\n",
    "        break\n",
    "\n",
    "video.release()\n",
    "cv.destroyAllWindows()\n",
    "\n",
    "for i in range(1,count+1):\n",
    "    og_path = os.path.join(\"./tempo/\", f\"{i}.jpg\")\n",
    "    can_path = os.path.join(\"./tempc/\", f\"{i}.jpg\")\n",
    "    og=cv.imread(og_path)\n",
    "    can=cv.imread(can_path, cv.IMREAD_GRAYSCALE)\n",
    "    if og is not None and can is not None:\n",
    "        can_resized = cv.cvtColor(can, cv.COLOR_GRAY2BGR)  # Convert grayscale to BGR\n",
    "        can_resized = cv.resize(can_resized, (og.shape[1], og.shape[0]))  # Resize\n",
    "        combine_photo=cv.hconcat([og,can_resized])\n",
    "        cv.imshow(\"Final Result\",combine_photo)\n",
    "        if cv.waitKey(1) == ord('q'):\n",
    "            break\n",
    "\n",
    "if os.path.exists(\"./tempc/\") and os.path.exists(\"./tempo/\"):\n",
    "    for file in os.listdir(\"./tempc/\"):\n",
    "        file_path = os.path.join(\"./tempc/\", file)\n",
    "        os.remove(file_path)\n",
    "    for file in os.listdir(\"./tempo/\"):\n",
    "        file_path = os.path.join(\"./tempo/\", file)\n",
    "        os.remove(file_path)\n",
    "    os.rmdir(\"./tempc/\")\n",
    "    os.rmdir(\"./tempo/\")"
   ]
  },
  {
   "cell_type": "markdown",
   "metadata": {
    "id": "X3lImf4FAC4B"
   },
   "source": [
    "Gaussian Blurring\n",
    "\n",
    "Write a Python script to Read an image named image.jpg Apply a Gaussian blur with a kernel size of 5x5 Save the blurred image as gaussian_blur.jpg."
   ]
  },
  {
   "cell_type": "code",
   "execution_count": null,
   "metadata": {
    "id": "xC9VQ6_kAapt"
   },
   "outputs": [],
   "source": [
    "import cv2 as cv\n",
    "img=cv.imread(\"image.jpg\")\n",
    "blur=cv.GaussianBlur(img,(5,5),cv.BORDER_DEFAULT)\n",
    "cv.imshow(\"gaussian_blur\",blur)\n",
    "cv.imwrite(\"gaussian_blur.jpg\",blur)\n",
    "cv.waitKey(0)"
   ]
  },
  {
   "cell_type": "markdown",
   "metadata": {
    "id": "BQpzAKfPAa9C"
   },
   "source": [
    "Draw Shapes on Images\n",
    "\n",
    "Write a Python script to:\n",
    "    Read an image named image.jpg.\n",
    "    Draw the following on the image:\n",
    "        A blue circle with a radius of 50 pixels at the center.\n",
    "        A green rectangle of size 100x50 pixels in the bottom-right corner.\n",
    "    Save the modified image as shapes_drawn.jpg."
   ]
  },
  {
   "cell_type": "code",
   "execution_count": null,
   "metadata": {
    "id": "py_dNtukAs14"
   },
   "outputs": [],
   "source": [
    "import cv2 as cv\n",
    "img=cv.imread(\"image.jpg\")\n",
    "height,width,_=img.shape\n",
    "cv.circle(img,(width//2,height//2),50,(255,0,0),thickness=-1)\n",
    "cv.rectangle(img,(width-100,height-50),(width,height),(0,255,0),thickness=-1)\n",
    "cv.imshow(\"shapes_drawn\",img)\n",
    "cv.imwrite(\"shapes_drawn.jpg\",img)\n",
    "cv.waitKey(0)"
   ]
  },
  {
   "cell_type": "markdown",
   "metadata": {
    "id": "VATqeumcAt3a"
   },
   "source": [
    "Image Color Space Conversion\n",
    "\n",
    "Write a Python script to:\n",
    "    Read an image named image.jpg.\n",
    "    Convert the image from BGR to HSV color space.\n",
    "    Save the result as hsv_image.jpg."
   ]
  },
  {
   "cell_type": "code",
   "execution_count": null,
   "metadata": {
    "id": "CMnqcUhRBOy0"
   },
   "outputs": [],
   "source": [
    "import cv2 as cv\n",
    "img=cv.imread(\"image.jpg\")\n",
    "cv.cvtColor(img,cv.COLOR_BGR2HSV)\n",
    "cv.imshow(\"hsv_image\",img)\n",
    "cv.imwrite(\"hsv_image.jpg\",img)\n",
    "cv.waitKey(0)"
   ]
  },
  {
   "cell_type": "markdown",
   "metadata": {
    "id": "MZcUXAPZBPIw"
   },
   "source": [
    "Split Image into Color Channels\n",
    "\n",
    "Write a Python function to split an input image named colorful.jpg into its three color channels (Blue, Green, Red). Save each channel as a separate grayscale image."
   ]
  },
  {
   "cell_type": "code",
   "execution_count": null,
   "metadata": {
    "id": "om_y1DT7BQA2"
   },
   "outputs": [],
   "source": [
    "import cv2 as cv\n",
    "def bgrsplit(path):\n",
    "    img=cv.imread(str(path))\n",
    "    blue,green,red=cv.split(img)\n",
    "    cv.imshow(\"Original\",img)\n",
    "    cv.imshow(\"Blue Channel\",blue)\n",
    "    cv.imshow(\"Green Channel\",green)\n",
    "    cv.imshow(\"Red Channel\",red)\n",
    "    cv.imwrite(\"blue_channel.jpg\",blue)\n",
    "    cv.imwrite(\"green_channel.jpg\",green)\n",
    "    cv.imwrite(\"red_channel.jpg\",red)\n",
    "    cv.waitKey(0)\n",
    "bgrsplit(\"colorful.jpg\")"
   ]
  },
  {
   "cell_type": "code",
   "execution_count": null,
   "metadata": {
    "id": "kBXegGVlBiw7"
   },
   "outputs": [],
   "source": []
  },
  {
   "cell_type": "markdown",
   "metadata": {
    "id": "oEqKIeoGBjxb"
   },
   "source": [
    "Feel free to reach out to us."
   ]
  }
 ],
 "metadata": {
  "colab": {
   "authorship_tag": "ABX9TyMbfVC6cAWZFk9Wi7M9xCAC",
   "provenance": []
  },
  "kernelspec": {
   "display_name": "Python 3",
   "name": "python3"
  },
  "language_info": {
   "name": "python"
  }
 },
 "nbformat": 4,
 "nbformat_minor": 0
}
