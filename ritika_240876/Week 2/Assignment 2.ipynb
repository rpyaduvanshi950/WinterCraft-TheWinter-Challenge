{
 "cells": [
  {
   "cell_type": "markdown",
   "metadata": {
    "id": "5mTHZEqh-cdR"
   },
   "source": [
    "Grayscale Conversion\n",
    "\n",
    "Write a Python script to read an image named image.jpg, convert it to grayscale, and save the result as output_gray.jpg."
   ]
  },
  {
   "cell_type": "code",
   "execution_count": null,
   "metadata": {
    "id": "MaPflrkW-Zto"
   },
   "outputs": [],
   "source": [
    "# Write your code here.\n",
    "import cv2 as cv\n",
    "img=cv.imread(r\"C:\\Users\\Ritika Batra\\Desktop\\image.jpg\")\n",
    "output1=cv.cvtColor(img,cv.COLOR_BGR2GRAY)\n",
    "file='output_gray.jpg'\n",
    "cv.imwrite(file ,output1 )\n",
    "cv.waitKey(0)"
   ]
  },
  {
   "cell_type": "markdown",
   "metadata": {
    "id": "XKHxTSHk-m_O"
   },
   "source": [
    "\n",
    "Grayscale Conversion.\n",
    "\n",
    "Write a Python script to read an image named image.jpg, convert it to grayscale, and save the result as output_gray.jpg."
   ]
  },
  {
   "cell_type": "code",
   "execution_count": null,
   "metadata": {
    "id": "Zb2sLaXp-11r"
   },
   "outputs": [],
   "source": [
    "# Write your code here.\n",
    "import cv2 as cv\n",
    "img=cv.imread(r\"C:\\Users\\Ritika Batra\\Desktop\\image.jpg\")\n",
    "output1=cv.cvtColor(img,cv.COLOR_BGR2GRAY)\n",
    "file='output_gray.jpg'\n",
    "cv.imwrite(file ,output1 )\n",
    "cv.waitKey(0)\n"
   ]
  },
  {
   "cell_type": "markdown",
   "metadata": {
    "id": "x8VlxABO-2A9"
   },
   "source": [
    "Capture and Save Webcam Frames.\n",
    "\n",
    "Write a Python script using cv2.VideoCapture() to:\n",
    "1. Continuously capture video frames from your webcam.\n",
    "\n",
    "2. Display each frame in a window.\n",
    "\n",
    "3. Save every 30th frame as an image in a folder called frames."
   ]
  },
  {
   "cell_type": "code",
   "execution_count": null,
   "metadata": {
    "id": "ex9AgLXS_GN8"
   },
   "outputs": [],
   "source": [
    " # Write your code here.\n",
    "import cv2 as cv\n",
    "capture=cv.VideoCapture(0)\n",
    "c=0\n",
    "while True :\n",
    "    isTrue,frame=capture.read()\n",
    "\n",
    "    cv.imshow('Video',frame)\n",
    "\n",
    "    if cv.waitKey(1) & 0xFF==ord('d'):\n",
    "      break\n",
    "\n",
    "    c=c+1\n",
    "    if(c%30==0) : \n",
    "        img=cv.imread(frame)       \n",
    "        cv.imwrite(\"C:\\Users\\Ritika Batra\\Desktop\\my files\\frames\", img)\n",
    "       \n",
    "     \n",
    "\n",
    "capture.release()\n",
    "cv.destroyAllWindows()\n"
   ]
  },
  {
   "cell_type": "markdown",
   "metadata": {
    "id": "2TLPG4qL_Gan"
   },
   "source": [
    "Write a Python script to perform the following tasks:\n",
    "\n",
    "1. Rotate an image named image.jpg by 90 degrees clockwise and save the result as rotated_image.jpg.\n",
    "\n",
    "\n",
    "2. Crop a central 200x200 region from the same image (original size is 800x600 pixels) and save it as cropped_image.jpg."
   ]
  },
  {
   "cell_type": "code",
   "execution_count": null,
   "metadata": {
    "id": "xrumakIS_18v"
   },
   "outputs": [],
   "source": [
    " # Write your code here.\n",
    "import cv2 as cv\n",
    "img=cv.imread(r\"C:\\Users\\Ritika Batra\\Desktop\\image.jpg\")\n",
    "\n",
    "rotated_image1 = cv.rotate(img , cv.ROTATE_90_CLOCKWISE)\n",
    "file1='rotated_image.jpg'\n",
    "cropped_image1 = img[400:600, 300:500]\n",
    "file2='cropped_image.jpg'\n",
    "cv.imwrite(file1, cropped_image1) \n",
    "cv.imwrite(file2, rotated_image1)\n",
    "cv.waitKey(0)  "
   ]
  },
  {
   "cell_type": "markdown",
   "metadata": {
    "id": "vWzqg01C_2G4"
   },
   "source": [
    "Canny Edge Detection in Video\n",
    "\n",
    "Write a Python program to:\n",
    "\n",
    "Capture video frames continuously for 10 seconds.\n",
    "\n",
    "Apply the Canny edge detection algorithm to each frame.\n",
    "\n",
    "Display the original frame and its edges side by side in a single window.\n",
    "\n",
    "Stop capturing when the user presses the 'q' key."
   ]
  },
  {
   "cell_type": "code",
   "execution_count": null,
   "metadata": {
    "id": "ZW4uyco4ACP2"
   },
   "outputs": [],
   "source": [
    " # Write your code here."
   ]
  },
  {
   "cell_type": "markdown",
   "metadata": {
    "id": "X3lImf4FAC4B"
   },
   "source": [
    "Gaussian Blurring\n",
    "\n",
    "Write a Python script to Read an image named image.jpg Apply a Gaussian blur with a kernel size of 5x5 Save the blurred image as gaussian_blur.jpg."
   ]
  },
  {
   "cell_type": "code",
   "execution_count": null,
   "metadata": {
    "id": "xC9VQ6_kAapt"
   },
   "outputs": [],
   "source": [
    " # Write your code here.\n",
    "\n",
    "import cv2 as cv\n",
    "img=cv.imread(r\"C:\\Users\\Ritika Batra\\Desktop\\image.jpg\")\n",
    "gaussian = cv.GaussianBlur(img , (5, 5), 0) \n",
    "filename = 'gaussian_blur.jpg'\n",
    "cv.imwrite(filename , gaussian) \n",
    "cv.waitKey(0)  "
   ]
  },
  {
   "cell_type": "markdown",
   "metadata": {
    "id": "BQpzAKfPAa9C"
   },
   "source": [
    "Draw Shapes on Images\n",
    "\n",
    "Write a Python script to:\n",
    "    Read an image named image.jpg.\n",
    "    Draw the following on the image:\n",
    "        A blue circle with a radius of 50 pixels at the center.\n",
    "        A green rectangle of size 100x50 pixels in the bottom-right corner.\n",
    "    Save the modified image as shapes_drawn.jpg."
   ]
  },
  {
   "cell_type": "code",
   "execution_count": null,
   "metadata": {
    "id": "py_dNtukAs14"
   },
   "outputs": [],
   "source": [
    "# Write your code here.\n",
    "import cv2 as cv\n",
    "img=cv.imread(r\"C:\\Users\\Ritika Batra\\Desktop\\image.jpg\")\n",
    "color1 = (0, 255, 0)\n",
    "color2 = (255, 0, 0)\n",
    "image = cv.rectangle(img, (700,550), (800,600),color1,-1 )\n",
    "image = cv.rectangle(image, (400,300),50,color2,-1 )\n",
    "file='shapes_drawn.jpg'\n",
    "cv.imwrite(file,image)\n",
    "cv.waitKey(0)"
   ]
  },
  {
   "cell_type": "code",
   "execution_count": null,
   "metadata": {},
   "outputs": [],
   "source": []
  },
  {
   "cell_type": "markdown",
   "metadata": {
    "id": "VATqeumcAt3a"
   },
   "source": [
    "Image Color Space Conversion\n",
    "\n",
    "Write a Python script to:\n",
    "    Read an image named image.jpg.\n",
    "    Convert the image from BGR to HSV color space.\n",
    "    Save the result as hsv_image.jpg."
   ]
  },
  {
   "cell_type": "code",
   "execution_count": null,
   "metadata": {
    "id": "CMnqcUhRBOy0"
   },
   "outputs": [],
   "source": [
    "# Write your code here.\n",
    "import cv2 as cv\n",
    "\n",
    "image = cv.imread(\"C:\\Users\\Ritika Batra\\Desktop\\image.jpg\")\n",
    "\n",
    "hsvimage1 = cv.cvtColor(image, cv.COLOR_BGR2HSV)\n",
    "file='hsv_image.jpg'\n",
    "cv.imwrite(file , hsvimage1)\n",
    "\n",
    "cv.waitKey(0)"
   ]
  },
  {
   "cell_type": "markdown",
   "metadata": {
    "id": "MZcUXAPZBPIw"
   },
   "source": [
    "Split Image into Color Channels\n",
    "\n",
    "Write a Python function to split an input image named colorful.jpg into its three color channels (Blue, Green, Red). Save each channel as a separate grayscale image."
   ]
  },
  {
   "cell_type": "code",
   "execution_count": null,
   "metadata": {
    "id": "om_y1DT7BQA2"
   },
   "outputs": [],
   "source": [
    "# Write your code here\n",
    "import cv2 as cv\n",
    "\n",
    "image = cv.imread(\"C:\\Users\\Ritika Batra\\Desktop\\image.jpg\")\n",
    "\n",
    "b,g,r = cv.split(image)\n",
    "bg=cv.cvtColor(b,cv.COLOR_BGR2GRAY)\n",
    "gg=cv.cvtColor(g,cv.COLOR_BGR2GRAY)\n",
    "rg=cv.cvtColor(r,cv.COLOR_BGR2GRAY)\n",
    "cv.imrite('bluegray.jpg',bg)\n",
    "cv.imrite('greengray.jpg',gg)\n",
    "cv.imrite('redgray.jpg',rg)"
   ]
  },
  {
   "cell_type": "code",
   "execution_count": null,
   "metadata": {
    "id": "kBXegGVlBiw7"
   },
   "outputs": [],
   "source": []
  },
  {
   "cell_type": "markdown",
   "metadata": {
    "id": "oEqKIeoGBjxb"
   },
   "source": [
    "Feel free to reach out to us."
   ]
  }
 ],
 "metadata": {
  "colab": {
   "authorship_tag": "ABX9TyMbfVC6cAWZFk9Wi7M9xCAC",
   "provenance": []
  },
  "kernelspec": {
   "display_name": "Python 3",
   "name": "python3"
  },
  "language_info": {
   "name": "python"
  }
 },
 "nbformat": 4,
 "nbformat_minor": 0
}
