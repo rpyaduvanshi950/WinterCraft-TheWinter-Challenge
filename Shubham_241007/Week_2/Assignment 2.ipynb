{
 "cells": [
  {
   "cell_type": "code",
   "execution_count": 44,
   "metadata": {},
   "outputs": [],
   "source": [
    "import cv2 as cv\n",
    "import numpy as np\n",
    "import os"
   ]
  },
  {
   "cell_type": "code",
   "execution_count": 45,
   "metadata": {},
   "outputs": [],
   "source": [
    "def rescaleFrame(frame, scale=0.75):##can be used for videos,images, live video\n",
    "    width = int(frame.shape[1]*scale)\n",
    "    height = int(frame.shape[0]*scale)\n",
    "\n",
    "    dimensions = (width,height)\n",
    "\n",
    "    rescaled_img = cv.resize(frame,dimensions)#interpolation=cv.INTER_AREA\n",
    "    return rescaled_img"
   ]
  },
  {
   "cell_type": "markdown",
   "metadata": {
    "id": "5mTHZEqh-cdR"
   },
   "source": [
    "Grayscale Conversion\n",
    "\n",
    "Write a Python script to read an image named image.jpg, convert it to grayscale, and save the result as output_gray.jpg."
   ]
  },
  {
   "cell_type": "code",
   "execution_count": 46,
   "metadata": {},
   "outputs": [],
   "source": [
    "image = cv.imread(\"image.jpg\")\n",
    "image = rescaleFrame(image,.75)\n",
    "\n",
    "# cv.imshow(\"abc\",image)\n",
    "# cv.waitKey(0)"
   ]
  },
  {
   "cell_type": "code",
   "execution_count": 47,
   "metadata": {
    "id": "MaPflrkW-Zto"
   },
   "outputs": [
    {
     "data": {
      "text/plain": [
       "True"
      ]
     },
     "execution_count": 47,
     "metadata": {},
     "output_type": "execute_result"
    }
   ],
   "source": [
    "\n",
    "gray = cv.cvtColor(image,cv.COLOR_BGR2GRAY)\n",
    "\n",
    "cv.imwrite('output_gray.jpg',gray)"
   ]
  },
  {
   "cell_type": "markdown",
   "metadata": {
    "id": "x8VlxABO-2A9"
   },
   "source": [
    "Capture and Save Webcam Frames.\n",
    "\n",
    "Write a Python script using cv2.VideoCapture() to:\n",
    "1. Continuously capture video frames from your webcam.\n",
    "\n",
    "2. Display each frame in a window.\n",
    "\n",
    "3. Save every 30th frame as an image in a folder called frames."
   ]
  },
  {
   "cell_type": "code",
   "execution_count": 48,
   "metadata": {
    "id": "ex9AgLXS_GN8"
   },
   "outputs": [],
   "source": [
    "vid = cv.VideoCapture(0)\n",
    "currentframe = 0\n",
    "if not os.path.exists('frames'):\n",
    "    os.makedirs(\"frames\")\n",
    "while True:\n",
    "    IsTrue, frame = vid.read()\n",
    "    cv.imshow(\"WebCam\",frame)\n",
    "    \n",
    "    if (currentframe%30 ==0):\n",
    "        cv.imwrite('frames/frame'+str(currentframe)+'.jpg',frame)\n",
    "    \n",
    "    currentframe+=1\n",
    "\n",
    "    if cv.waitKey(20) & 0xFF == ord('x'):\n",
    "        break\n",
    "\n",
    "vid.release()\n",
    "cv.destroyAllWindows()"
   ]
  },
  {
   "cell_type": "markdown",
   "metadata": {
    "id": "2TLPG4qL_Gan"
   },
   "source": [
    "Write a Python script to perform the following tasks:\n",
    "\n",
    "1. Rotate an image named image.jpg by 90 degrees clockwise and save the result as rotated_image.jpg.\n",
    "\n",
    "\n",
    "2. Crop a central 200x200 region from the same image (original size is 800x600 pixels) and save it as cropped_image.jpg."
   ]
  },
  {
   "cell_type": "code",
   "execution_count": 49,
   "metadata": {
    "id": "xrumakIS_18v"
   },
   "outputs": [
    {
     "data": {
      "text/plain": [
       "True"
      ]
     },
     "execution_count": 49,
     "metadata": {},
     "output_type": "execute_result"
    }
   ],
   "source": [
    "def rotate(image, angle, rotPoint = None):\n",
    "    (height, width) = image.shape[:2]\n",
    "\n",
    "    if rotPoint is None:\n",
    "        rotPoint = (width//2,height//2)\n",
    "\n",
    "    rotMat = cv.getRotationMatrix2D(rotPoint,angle,1.0)\n",
    "    dimensions = (width, height)\n",
    "    return cv.warpAffine(image,rotMat,dimensions)\n",
    "\n",
    "rotated = rotate(image,90)\n",
    "\n",
    "cv.imwrite(\"rotated_image.jpg\",rotated)\n",
    "\n",
    "height, width = rotated.shape[:2]\n",
    "height, width =height//2, width//2\n",
    "\n",
    "cropped = rotated[height-100:height+100,width-100:width+100]\n",
    "cv.imwrite(\"cropped_image.jpg\",cropped)\n"
   ]
  },
  {
   "cell_type": "markdown",
   "metadata": {
    "id": "vWzqg01C_2G4"
   },
   "source": [
    "Canny Edge Detection in Video\n",
    "\n",
    "Write a Python program to:\n",
    "\n",
    "Capture video frames continuously for 10 seconds.\n",
    "\n",
    "Apply the Canny edge detection algorithm to each frame.\n",
    "\n",
    "Display the original frame and its edges side by side in a single window.\n",
    "\n",
    "Stop capturing when the user presses the 'q' key."
   ]
  },
  {
   "cell_type": "code",
   "execution_count": 50,
   "metadata": {
    "id": "ZW4uyco4ACP2"
   },
   "outputs": [],
   "source": [
    "video = cv.VideoCapture(\"Video.mp4\")\n",
    "second=10\n",
    "fps=30\n",
    "cut = 0\n",
    "while True:\n",
    "    IsTrue, frame = video.read()\n",
    "    \n",
    "    img = rescaleFrame(frame,0.5)\n",
    "    can = cv.Canny(img,100,175)\n",
    "    canny = cv.cvtColor(can,cv.COLOR_GRAY2BGR)\n",
    "\n",
    "    new_image = np.hstack((img,canny))\n",
    "    cv.imshow(\"comparison\",new_image)\n",
    "    cut +=(1/30)\n",
    "\n",
    "    if cv.waitKey(20) & 0xFF == ord('q'):\n",
    "        break\n",
    "    elif cut>=(10):\n",
    "        break\n",
    "        \n",
    "\n",
    "video.release()\n",
    "cv.destroyAllWindows()"
   ]
  },
  {
   "cell_type": "markdown",
   "metadata": {
    "id": "X3lImf4FAC4B"
   },
   "source": [
    "Gaussian Blurring\n",
    "\n",
    "Write a Python script to Read an image named image.jpg Apply a Gaussian blur with a kernel size of 5x5 Save the blurred image as gaussian_blur.jpg."
   ]
  },
  {
   "cell_type": "code",
   "execution_count": 51,
   "metadata": {
    "id": "xC9VQ6_kAapt"
   },
   "outputs": [
    {
     "data": {
      "text/plain": [
       "True"
      ]
     },
     "execution_count": 51,
     "metadata": {},
     "output_type": "execute_result"
    }
   ],
   "source": [
    "blur = cv.blur(image,(5,5),cv.BORDER_DEFAULT)\n",
    "cv.imwrite(\"gaussian_blur.jpg\",blur)"
   ]
  },
  {
   "cell_type": "markdown",
   "metadata": {
    "id": "BQpzAKfPAa9C"
   },
   "source": [
    "Draw Shapes on Images\n",
    "\n",
    "Write a Python script to:\n",
    "    Read an image named image.jpg.\n",
    "    Draw the following on the image:\n",
    "        A blue circle with a radius of 50 pixels at the center.\n",
    "        A green rectangle of size 100x50 pixels in the bottom-right corner.\n",
    "    Save the modified image as shapes_drawn.jpg."
   ]
  },
  {
   "cell_type": "code",
   "execution_count": 52,
   "metadata": {},
   "outputs": [],
   "source": [
    "shape = cv.imread(\"image.jpg\")\n",
    "shape = rescaleFrame(shape,.75)\n",
    "\n",
    "width = int(shape.shape[1])\n",
    "height = int(shape.shape[0])\n",
    "\n",
    "dimensions = (width,height)"
   ]
  },
  {
   "cell_type": "code",
   "execution_count": 53,
   "metadata": {
    "id": "py_dNtukAs14"
   },
   "outputs": [
    {
     "data": {
      "text/plain": [
       "True"
      ]
     },
     "execution_count": 53,
     "metadata": {},
     "output_type": "execute_result"
    }
   ],
   "source": [
    "shape=cv.circle(shape, center=(width//2,height//2), radius=50, color=(56,156,152), thickness=10)\n",
    "cv.rectangle(shape, pt1=(width-100,height-50), pt2=dimensions, color=(200,158,123), thickness=10)\n",
    "\n",
    "# cv.imshow(\"shape\",shape)\n",
    "# cv.waitKey(0)\n",
    "cv.imwrite(\"shapes_drawn.jpg\",shape)\n"
   ]
  },
  {
   "cell_type": "markdown",
   "metadata": {
    "id": "VATqeumcAt3a"
   },
   "source": [
    "Image Color Space Conversion\n",
    "\n",
    "Write a Python script to:\n",
    "    Read an image named image.jpg.\n",
    "    Convert the image from BGR to HSV color space.\n",
    "    Save the result as hsv_image.jpg."
   ]
  },
  {
   "cell_type": "code",
   "execution_count": 54,
   "metadata": {
    "id": "CMnqcUhRBOy0"
   },
   "outputs": [
    {
     "data": {
      "text/plain": [
       "True"
      ]
     },
     "execution_count": 54,
     "metadata": {},
     "output_type": "execute_result"
    }
   ],
   "source": [
    "hsv = cv.cvtColor(image,cv.COLOR_BGR2HSV)\n",
    "cv.imwrite(\"hsv_image.jpg\",hsv)\n"
   ]
  },
  {
   "cell_type": "markdown",
   "metadata": {
    "id": "MZcUXAPZBPIw"
   },
   "source": [
    "Split Image into Color Channels\n",
    "\n",
    "Write a Python function to split an input image named colorful.jpg into its three color channels (Blue, Green, Red). Save each channel as a separate grayscale image."
   ]
  },
  {
   "cell_type": "code",
   "execution_count": 55,
   "metadata": {
    "id": "om_y1DT7BQA2"
   },
   "outputs": [
    {
     "data": {
      "text/plain": [
       "True"
      ]
     },
     "execution_count": 55,
     "metadata": {},
     "output_type": "execute_result"
    }
   ],
   "source": [
    "def separation(colorful):\n",
    "    blue = colorful[:,:,0]\n",
    "    green = colorful[:,:,1]\n",
    "    red = colorful[:,:,2]\n",
    "\n",
    "    return blue,green,red\n",
    "\n",
    "blue,green,red = separation(image)\n",
    "\n",
    "cv.imwrite(\"blue.jpg\",blue)\n",
    "cv.imwrite(\"green.jpg\",green)\n",
    "cv.imwrite(\"red.jpg\",red)"
   ]
  },
  {
   "cell_type": "markdown",
   "metadata": {
    "id": "oEqKIeoGBjxb"
   },
   "source": [
    "Feel free to reach out to us."
   ]
  }
 ],
 "metadata": {
  "colab": {
   "authorship_tag": "ABX9TyMbfVC6cAWZFk9Wi7M9xCAC",
   "provenance": []
  },
  "kernelspec": {
   "display_name": "Python 3",
   "name": "python3"
  },
  "language_info": {
   "codemirror_mode": {
    "name": "ipython",
    "version": 3
   },
   "file_extension": ".py",
   "mimetype": "text/x-python",
   "name": "python",
   "nbconvert_exporter": "python",
   "pygments_lexer": "ipython3",
   "version": "3.11.9"
  }
 },
 "nbformat": 4,
 "nbformat_minor": 0
}
